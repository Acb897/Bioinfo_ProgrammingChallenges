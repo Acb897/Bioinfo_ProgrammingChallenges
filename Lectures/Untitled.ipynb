{
 "cells": [
  {
   "cell_type": "code",
   "execution_count": 6,
   "metadata": {},
   "outputs": [
    {
     "ename": "LoadError",
     "evalue": "cannot load such file -- Patient2",
     "output_type": "error",
     "traceback": [
      "\u001b[31mLoadError\u001b[0m: cannot load such file -- Patient2",
      "\u001b[37m/home/osboxes/.rvm/rubies/ruby-2.4.2/lib/ruby/site_ruby/2.4.0/rubygems/core_ext/kernel_require.rb:55:in `require'\u001b[0m",
      "\u001b[37m/home/osboxes/.rvm/rubies/ruby-2.4.2/lib/ruby/site_ruby/2.4.0/rubygems/core_ext/kernel_require.rb:55:in `require'\u001b[0m",
      "\u001b[37m<main>:1:in `<main>'\u001b[0m",
      "\u001b[37m/home/osboxes/.rvm/gems/ruby-2.4.2/gems/iruby-0.3/lib/iruby/backend.rb:44:in `eval'\u001b[0m",
      "\u001b[37m/home/osboxes/.rvm/gems/ruby-2.4.2/gems/iruby-0.3/lib/iruby/backend.rb:44:in `eval'\u001b[0m",
      "\u001b[37m/home/osboxes/.rvm/gems/ruby-2.4.2/gems/iruby-0.3/lib/iruby/backend.rb:12:in `eval'\u001b[0m",
      "\u001b[37m/home/osboxes/.rvm/gems/ruby-2.4.2/gems/iruby-0.3/lib/iruby/kernel.rb:87:in `execute_request'\u001b[0m",
      "\u001b[37m/home/osboxes/.rvm/gems/ruby-2.4.2/gems/iruby-0.3/lib/iruby/kernel.rb:47:in `dispatch'\u001b[0m",
      "\u001b[37m/home/osboxes/.rvm/gems/ruby-2.4.2/gems/iruby-0.3/lib/iruby/kernel.rb:37:in `run'\u001b[0m",
      "\u001b[37m/home/osboxes/.rvm/gems/ruby-2.4.2/gems/iruby-0.3/lib/iruby/command.rb:70:in `run_kernel'\u001b[0m",
      "\u001b[37m/home/osboxes/.rvm/gems/ruby-2.4.2/gems/iruby-0.3/lib/iruby/command.rb:34:in `run'\u001b[0m",
      "\u001b[37m/home/osboxes/.rvm/gems/ruby-2.4.2/gems/iruby-0.3/bin/iruby:5:in `<top (required)>'\u001b[0m",
      "\u001b[37m/home/osboxes/.rvm/gems/ruby-2.4.2/bin/iruby:23:in `load'\u001b[0m",
      "\u001b[37m/home/osboxes/.rvm/gems/ruby-2.4.2/bin/iruby:23:in `<main>'\u001b[0m",
      "\u001b[37m/home/osboxes/.rvm/gems/ruby-2.4.2/bin/ruby_executable_hooks:15:in `eval'\u001b[0m",
      "\u001b[37m/home/osboxes/.rvm/gems/ruby-2.4.2/bin/ruby_executable_hooks:15:in `<main>'\u001b[0m"
     ]
    }
   ],
   "source": [
    "require './Objects/Patient'\n",
    "x= Patient2.\n"
   ]
  }
 ],
 "metadata": {
  "kernelspec": {
   "display_name": "Ruby 2.4.2",
   "language": "ruby",
   "name": "ruby"
  },
  "language_info": {
   "file_extension": ".rb",
   "mimetype": "application/x-ruby",
   "name": "ruby",
   "version": "2.4.2"
  }
 },
 "nbformat": 4,
 "nbformat_minor": 2
}
