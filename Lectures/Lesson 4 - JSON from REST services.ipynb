{
 "cells": [
  {
   "cell_type": "markdown",
   "metadata": {},
   "source": [
    "# More reliable ways of accessing data\n",
    "\n",
    "## Representational State Transfer - REST\n",
    "\n",
    "REST is a design philosophy for software.  It says:\n",
    "\n",
    "* Every \"Thing\" should be designated by ONE globally unique identifier/address\n",
    "* Every \"Thing\" exists in a particular \"state\"\n",
    "    * e.g. if a=2, then the state of \"a\" is \"2\"\n",
    "* There are a limited number of uniform (i.e. globally accepted) functions to request/query/modify the state of the Thing\n",
    "    * this means that you are not allowed to invent your own API!!!\n",
    "* The software is \"stateless\" - after performing an operation on a Thing, the software forgets everything it knows, and the Thing also forgets that it was visited by the software.  The system \"has no memory\"\n",
    "    * this means, NO COOKIES!\n",
    "* Because the system is stateless (has no memory), the current state of the \"Thing\", and all operations on a \"Thing\" that are valid at a given moment, must be reported by the \"Thing\" to the client using \"Hypertext\" (a way to describe a \"state\" in a machine-readable way)\n",
    "* the client then selects one of those valid operations and executes it, using one of the limited number of uniform fuctions.\n",
    "* finally, the client is able to retrieve the \"Thing\" in one or more \"representations\" (e.g. retrieve the AB13345 record in GenBank or XML or EMBL or PDF format) using the same identifier in every case.\n",
    "<pre>\n",
    "\n",
    "\n",
    "</pre>\n",
    "\n"
   ]
  },
  {
   "cell_type": "code",
   "execution_count": null,
   "metadata": {
    "collapsed": true
   },
   "outputs": [],
   "source": []
  },
  {
   "cell_type": "code",
   "execution_count": null,
   "metadata": {
    "collapsed": true
   },
   "outputs": [],
   "source": []
  },
  {
   "cell_type": "code",
   "execution_count": null,
   "metadata": {
    "collapsed": true
   },
   "outputs": [],
   "source": []
  },
  {
   "cell_type": "code",
   "execution_count": 1,
   "metadata": {},
   "outputs": [
    {
     "name": "stdout",
     "output_type": "stream",
     "text": [
      "InterPro ID: IPR001810  name: F-box_dom\n",
      "InterPro ID: IPR036047  name: F-box_dom_like\n",
      "InterPro ID: IPR011043  name: Gal_Oxase/kelch_b-propeller\n",
      "InterPro ID: IPR015915  name: Kelch-typ_b-propeller\n"
     ]
    },
    {
     "data": {
      "text/plain": [
       "[[\"IPR001810\", \"F-box_dom\"], [\"IPR036047\", \"F-box_dom_like\"], [\"IPR011043\", \"Gal_Oxase/kelch_b-propeller\"], [\"IPR015915\", \"Kelch-typ_b-propeller\"]]"
      ]
     },
     "execution_count": 1,
     "metadata": {},
     "output_type": "execute_result"
    }
   ],
   "source": [
    "require 'net/http'\n",
    "require 'json'  # to handle JSON format\n",
    "#require 'pp'  # \"pretty print\"  (an alternative to puts for simple output to screen)\n",
    "\n",
    "\n",
    "address = URI('http://togows.dbcls.jp/entry/uniprot/UFO_ARATH/dr.json') \n",
    "\n",
    "response = Net::HTTP.get_response(address)  # use the Net::HTTP object \"get_response\" method\n",
    "                                               # to call that address\n",
    "# puts response.body\n",
    "\n",
    "data = JSON.parse(response.body)\n",
    "\n",
    "\n",
    "#puts data[0][\"InterPro\"]\n",
    "\n",
    "for elem in data[0][\"InterPro\"].each\n",
    "  # puts elem\n",
    "  puts \"InterPro ID: #{elem[0]}  name: #{elem[1]}\"\n",
    "end\n"
   ]
  },
  {
   "cell_type": "markdown",
   "metadata": {},
   "source": [
    "# Prove you understand\n",
    "\n",
    "Write the code that retrieves and prints the Gene Ontology annotations from the UFO protein of _Arabidopsis thaliana_ (look up the UniProt protein ID); limit the output to only those that are \"Inferred from Direct Assasy (IDA), or \"Inferred from Mutant Phenotype (IMP)\" and tell the user what the source was (e.g.IMP:TAIR)\n",
    "\n",
    "\n"
   ]
  }
 ],
 "metadata": {
  "kernelspec": {
   "display_name": "Ruby 2.4.2",
   "language": "ruby",
   "name": "ruby"
  },
  "language_info": {
   "file_extension": ".rb",
   "mimetype": "application/x-ruby",
   "name": "ruby",
   "version": "2.4.2"
  }
 },
 "nbformat": 4,
 "nbformat_minor": 2
}
