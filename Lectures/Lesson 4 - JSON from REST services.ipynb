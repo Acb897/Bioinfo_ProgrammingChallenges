{
 "cells": [
  {
   "cell_type": "code",
   "execution_count": 28,
   "metadata": {},
   "outputs": [
    {
     "name": "stdout",
     "output_type": "stream",
     "text": [
      "[[\"IPR001810\", \"F-box_dom\"], [\"IPR036047\", \"F-box_dom_like\"], [\"IPR011043\", \"Gal_Oxase/kelch_b-propeller\"], [\"IPR015915\", \"Kelch-typ_b-propeller\"]]\n",
      "\n",
      "InterPro ID: IPR001810  name: F-box_dom\n",
      "InterPro ID: IPR036047  name: F-box_dom_like\n",
      "InterPro ID: IPR011043  name: Gal_Oxase/kelch_b-propeller\n",
      "InterPro ID: IPR015915  name: Kelch-typ_b-propeller\n"
     ]
    },
    {
     "data": {
      "text/plain": [
       "[[\"IPR001810\", \"F-box_dom\"], [\"IPR036047\", \"F-box_dom_like\"], [\"IPR011043\", \"Gal_Oxase/kelch_b-propeller\"], [\"IPR015915\", \"Kelch-typ_b-propeller\"]]"
      ]
     },
     "execution_count": 28,
     "metadata": {},
     "output_type": "execute_result"
    }
   ],
   "source": [
    "require 'net/http'\n",
    "require 'json'  # to handle JSON format\n",
    "#require 'pp'  # \"pretty print\"  (an alternative to puts for simple output to screen)\n",
    "\n",
    "\n",
    "address = URI('http://togows.dbcls.jp/entry/uniprot/UFO_ARATH/dr.json') \n",
    "\n",
    "response = Net::HTTP.get_response(address)  # use the Net::HTTP object \"get_response\" method\n",
    "                                               # to call that address\n",
    "# puts response.body\n",
    "\n",
    "data = JSON.parse(response.body)\n",
    "\n",
    "\n",
    "#puts data[0][\"InterPro\"]\n",
    "\n",
    "for elem in data[0][\"InterPro\"].each\n",
    "  # puts elem\n",
    "  puts \"InterPro ID: #{elem[0]}  name: #{elem[1]}\"\n",
    "end\n"
   ]
  },
  {
   "cell_type": "markdown",
   "metadata": {},
   "source": [
    "# Prove you understand\n",
    "\n",
    "Write the code that retrieves and prints the Gene Ontology annotations from the UFO protein of _Arabidopsis thaliana_ (look up the UniProt protein ID); limit the output to only those that are \"Inferred from Direct Assasy (IDA), or \"Inferred from Mutant Phenotype (IMP)\" and tell the user what the source was (e.g.IMP:TAIR)\n",
    "\n",
    "\n"
   ]
  }
 ],
 "metadata": {
  "kernelspec": {
   "display_name": "Ruby 2.4.2",
   "language": "ruby",
   "name": "ruby"
  },
  "language_info": {
   "file_extension": ".rb",
   "mimetype": "application/x-ruby",
   "name": "ruby",
   "version": "2.4.2"
  }
 },
 "nbformat": 4,
 "nbformat_minor": 2
}
