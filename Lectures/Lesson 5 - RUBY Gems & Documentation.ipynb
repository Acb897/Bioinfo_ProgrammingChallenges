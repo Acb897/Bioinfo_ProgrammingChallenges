{
 "cells": [
  {
   "cell_type": "markdown",
   "metadata": {},
   "source": [
    "# Package Manager\n",
    "\n",
    "RubyGems is a PackageManager - that is, it is software that makes it easier to find, share, and reuse other people's classes\n",
    "\n",
    "The Website for RubyGems is:  http://rubygems.org\n",
    "\n",
    "browse to that site now...\n",
    "\n",
    "search for \"geo\" - we are looking for a package that will tell us the latitude and longitude (geo-location) of a Webg IP address.\n",
    "\n",
    "\n"
   ]
  },
  {
   "cell_type": "markdown",
   "metadata": {},
   "source": [
    "Found one here:  https://rubygems.org/gems/geo_location\n",
    "        \n",
    "## geo_location 0.4.2\n",
    "\n",
    "Geo Location allows you to geo-locate your users using their IP address via hostip.info or maxmind.com. This Ruby gem is dead simple to use and configure. Checkout the README and post any issue (or pull requests) to us on GitHub.\n",
    "\n",
    "Click on the \"documentation\" link:  http://www.rubydoc.info/gems/geo_location/0.4.2\n",
    "\n",
    "\n",
    "## Installation\n",
    "```\n",
    "gem install geo_location\n",
    "\n",
    "```\n",
    "\n",
    "\n",
    "## HostIP Example\n",
    "\n",
    "```  \n",
    "location = GeoLocation.find('24.24.24.24') # => {:ip=>\"24.24.24.24\", :city=>\"Liverpool\", :region=>\"NY\", :country=>\"United States\", :country_code=>\"US\", :latitude=>\"43.1059\", :longitude=>\"-76.2099\", :timezone=>\"America/New_York\"}\n",
    "\n",
    "  puts location[:ip] # => 24.24.24.24\n",
    "  puts location[:city] # => Liverpool\n",
    "  puts location[:region] # => NY\n",
    "  puts location[:country] # => United States\n",
    "  puts location[:country_code] # => US\n",
    "  puts location[:latitude] # => 43.1059\n",
    "  puts location[:longitude] # => -76.2099\n",
    "  puts location[:timezone] # => America/New_York\n",
    "\n",
    "``` \n",
    "\n"
   ]
  },
  {
   "cell_type": "markdown",
   "metadata": {},
   "source": [
    "\n",
    "\n",
    "# do what they say\n",
    "\n",
    "\n",
    "open your terminal window and type:    `gem install geo_location`\n",
    "\n",
    "This will install that Ruby code module.  You can then use it in your own code in exactly the same way as the modules you wrote yourself.\n",
    "\n",
    "```\n",
    "import geo_location\n",
    "\n",
    "location = GeoLocation.find('24.24.24.24') # => {:ip=>\"24.24.24.24\", :city=>\"Liverpool\", :region=>\"NY\", :country=>\"United States\", :country_code=>\"US\", :latitude=>\"43.1059\", :longitude=>\"-76.2099\", :timezone=>\"America/New_York\"}\n",
    "\n",
    "  puts location[:ip] # => 24.24.24.24\n",
    "  puts location[:city] # => Liverpool\n",
    "  puts location[:region] # => NY\n",
    "  puts location[:country] # => United States\n",
    "  puts location[:country_code] # => US\n",
    "  puts location[:latitude] # => 43.1059\n",
    "  puts location[:longitude] # => -76.2099\n",
    "  puts location[:timezone] # => America/New_York\n",
    "\n",
    "```\n",
    "\n"
   ]
  },
  {
   "cell_type": "code",
   "execution_count": 2,
   "metadata": {},
   "outputs": [
    {
     "ename": "SocketError",
     "evalue": "Failed to open TCP connection to api.hostip.info:80 (getaddrinfo: Name or service not known)",
     "output_type": "error",
     "traceback": [
      "\u001b[31mSocketError\u001b[0m: Failed to open TCP connection to api.hostip.info:80 (getaddrinfo: Name or service not known)",
      "\u001b[37m/home/osboxes/.rvm/rubies/ruby-2.4.2/lib/ruby/2.4.0/net/http.rb:906:in `rescue in block in connect'\u001b[0m",
      "\u001b[37m/home/osboxes/.rvm/rubies/ruby-2.4.2/lib/ruby/2.4.0/net/http.rb:903:in `block in connect'\u001b[0m",
      "\u001b[37m/home/osboxes/.rvm/rubies/ruby-2.4.2/lib/ruby/2.4.0/timeout.rb:93:in `block in timeout'\u001b[0m",
      "\u001b[37m/home/osboxes/.rvm/rubies/ruby-2.4.2/lib/ruby/2.4.0/timeout.rb:103:in `timeout'\u001b[0m",
      "\u001b[37m/home/osboxes/.rvm/rubies/ruby-2.4.2/lib/ruby/2.4.0/net/http.rb:902:in `connect'\u001b[0m",
      "\u001b[37m/home/osboxes/.rvm/rubies/ruby-2.4.2/lib/ruby/2.4.0/net/http.rb:887:in `do_start'\u001b[0m",
      "\u001b[37m/home/osboxes/.rvm/rubies/ruby-2.4.2/lib/ruby/2.4.0/net/http.rb:876:in `start'\u001b[0m",
      "\u001b[37m/home/osboxes/.rvm/rubies/ruby-2.4.2/lib/ruby/2.4.0/net/http.rb:608:in `start'\u001b[0m",
      "\u001b[37m/home/osboxes/.rvm/rubies/ruby-2.4.2/lib/ruby/2.4.0/net/http.rb:485:in `get_response'\u001b[0m",
      "\u001b[37m/home/osboxes/.rvm/gems/ruby-2.4.2/gems/geo_location-0.4.2/lib/geo_location/geo_location.rb:63:in `hostip'\u001b[0m",
      "\u001b[37m/home/osboxes/.rvm/gems/ruby-2.4.2/gems/geo_location-0.4.2/lib/geo_location/geo_location.rb:11:in `find'\u001b[0m",
      "\u001b[37m<main>:2:in `<main>'\u001b[0m",
      "\u001b[37m/home/osboxes/.rvm/gems/ruby-2.4.2/gems/iruby-0.3/lib/iruby/backend.rb:44:in `eval'\u001b[0m",
      "\u001b[37m/home/osboxes/.rvm/gems/ruby-2.4.2/gems/iruby-0.3/lib/iruby/backend.rb:44:in `eval'\u001b[0m",
      "\u001b[37m/home/osboxes/.rvm/gems/ruby-2.4.2/gems/iruby-0.3/lib/iruby/backend.rb:12:in `eval'\u001b[0m",
      "\u001b[37m/home/osboxes/.rvm/gems/ruby-2.4.2/gems/iruby-0.3/lib/iruby/kernel.rb:87:in `execute_request'\u001b[0m",
      "\u001b[37m/home/osboxes/.rvm/gems/ruby-2.4.2/gems/iruby-0.3/lib/iruby/kernel.rb:47:in `dispatch'\u001b[0m",
      "\u001b[37m/home/osboxes/.rvm/gems/ruby-2.4.2/gems/iruby-0.3/lib/iruby/kernel.rb:37:in `run'\u001b[0m",
      "\u001b[37m/home/osboxes/.rvm/gems/ruby-2.4.2/gems/iruby-0.3/lib/iruby/command.rb:70:in `run_kernel'\u001b[0m",
      "\u001b[37m/home/osboxes/.rvm/gems/ruby-2.4.2/gems/iruby-0.3/lib/iruby/command.rb:34:in `run'\u001b[0m",
      "\u001b[37m/home/osboxes/.rvm/gems/ruby-2.4.2/gems/iruby-0.3/bin/iruby:5:in `<top (required)>'\u001b[0m",
      "\u001b[37m/home/osboxes/.rvm/gems/ruby-2.4.2/bin/iruby:23:in `load'\u001b[0m",
      "\u001b[37m/home/osboxes/.rvm/gems/ruby-2.4.2/bin/iruby:23:in `<main>'\u001b[0m",
      "\u001b[37m/home/osboxes/.rvm/gems/ruby-2.4.2/bin/ruby_executable_hooks:15:in `eval'\u001b[0m",
      "\u001b[37m/home/osboxes/.rvm/gems/ruby-2.4.2/bin/ruby_executable_hooks:15:in `<main>'\u001b[0m"
     ]
    }
   ],
   "source": [
    "require 'geo_location'\n",
    "\n",
    "location = GeoLocation.find('24.24.24.24') # => {:ip=>\"24.24.24.24\", :city=>\"Liverpool\", :region=>\"NY\", :country=>\"United States\", :country_code=>\"US\", :latitude=>\"43.1059\", :longitude=>\"-76.2099\", :timezone=>\"America/New_York\"}\n",
    "\n",
    "  puts location[:ip] # => 24.24.24.24\n",
    "  puts location[:city] # => Liverpool\n",
    "  puts location[:region] # => NY\n",
    "  puts location[:country] # => United States\n",
    "  puts location[:country_code] # => US\n",
    "  puts location[:latitude] # => 43.1059\n",
    "  puts location[:longitude] # => -76.2099\n",
    "  puts location[:timezone] # => America/New_York\n"
   ]
  },
  {
   "cell_type": "code",
   "execution_count": null,
   "metadata": {
    "collapsed": true
   },
   "outputs": [],
   "source": []
  }
 ],
 "metadata": {
  "kernelspec": {
   "display_name": "Ruby 2.4.2",
   "language": "ruby",
   "name": "ruby"
  },
  "language_info": {
   "file_extension": ".rb",
   "mimetype": "application/x-ruby",
   "name": "ruby",
   "version": "2.4.2"
  }
 },
 "nbformat": 4,
 "nbformat_minor": 2
}
