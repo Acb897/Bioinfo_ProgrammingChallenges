{
 "cells": [
  {
   "cell_type": "markdown",
   "metadata": {},
   "source": [
    "# Package Manager\n",
    "\n",
    "RubyGems is a PackageManager - that is, it is software that makes it easier to find, share, and reuse other people's classes\n",
    "\n",
    "The Website for RubyGems is:  http://rubygems.org\n",
    "\n",
    "browse to that site now...\n",
    "\n",
    "search for \"xml\" - we are looking for a package that will give us an easy way to manage XML files  (please tell me if you need me to give you a lecture on XML...)\n",
    "\n"
   ]
  },
  {
   "cell_type": "markdown",
   "metadata": {},
   "source": [
    "Found one here:  https://rubygems.org/gems/xml-simple\n",
    "\n",
    "        \n",
    "## xml-simple 1.1.5\n",
    "\n",
    "A simple API for XML processing.\n",
    "\n",
    "\n",
    "Click on the \"documentation\" link:  http://www.rubydoc.info/gems/xml-simple/1.1.5\n",
    "\n",
    "\n",
    "    Class: XmlSimple\n",
    "\n",
    "    Inherits:    Object\n",
    "    Includes:  REXML\n",
    "    Defined in:   lib/xmlsimple.rb\n",
    "\n",
    "\n",
    "The \"Class\" tells you the name of the object\n",
    "The \"Defined in\" tells you the name of the package you need to require.\n",
    "\n",
    "\n"
   ]
  },
  {
   "cell_type": "code",
   "execution_count": null,
   "metadata": {
    "collapsed": true
   },
   "outputs": [],
   "source": [
    "# so we have...\n",
    "require 'xmlsimple'\n",
    "\n",
    "simple = XmlSimple.new\n",
    "\n"
   ]
  },
  {
   "cell_type": "markdown",
   "metadata": {},
   "source": [
    "\n",
    "## Look at more of the documentation\n",
    "\n",
    "\n",
    "### Class Method Summary\n",
    "\n",
    "    .xml_in(string = nil, options = nil) ⇒ Object\n",
    "\n",
    "    This is the functional version of the instance method xml_in.\n",
    "    .xml_out(hash, options = nil) ⇒ Object\n",
    "\n",
    "    This is the functional version of the instance method xml_out.\n",
    "\n",
    "### Instance Method Summary\n",
    "\n",
    "    #initialize(defaults = nil) ⇒ XmlSimple constructor\n",
    "\n",
    "    Creates and initializes a new XmlSimple object.\n",
    "    #xml_in(string = nil, options = nil) ⇒ Object\n",
    "\n",
    "    Converts an XML document in the same way as the Perl module XML::Simple.\n",
    "    #xml_out(ref, options = nil) ⇒ Object\n",
    "\n",
    "    Converts a data structure into an XML document.\n",
    "\n",
    "\n",
    "The documentation tells you that this object is extremely simple - basically, it can do two things:  read XML in, and write XML out.   Interestingly, it also tells you that the object has both Class methods, and Instance methods, and that these methods (xml_in and xml_out) are identical.  \n",
    "\n",
    "That means that:\n",
    "\n"
   ]
  },
  {
   "cell_type": "code",
   "execution_count": null,
   "metadata": {
    "collapsed": true
   },
   "outputs": [],
   "source": [
    "require 'xmlsimple'\n",
    "\n",
    "simple = XmlSimple.new  # create an instance of XmlSimple\n",
    "data1 = simple.xml_in(\"<xml>hello1</xml>\")  # call the instance xml_in method\n",
    "\n",
    "# is effectively the same as \n",
    "\n",
    "data2 = XmlSimple.xml_in(\"<xml>hello2</xml>\")  # call the class xml_in method\n",
    "\n",
    "puts data1\n",
    "puts data2\n"
   ]
  },
  {
   "cell_type": "markdown",
   "metadata": {},
   "source": [
    "\n",
    "\n",
    "# Let's get some interesting XML data\n",
    "\n",
    "\n",
    "surf to:  http://rest.ensembl.org  (https://academic.oup.com/bioinformatics/article/31/1/143/2366240)\n",
    "\n",
    "This is another API into the EnsEMBL database.  Like DB Fetch, it provides predictably structured URLs for access to the data in EnsEMBL (these ones are somewhat \"cleaner\" than DB Fetch, but DB Fetch can access things that this API cannot)\n",
    "\n",
    "Scroll down to the \"Ontologies and Taxonomy\" section.  \n",
    "\n",
    "Click on \"taxonomy/id/:id\"\n",
    "\n",
    "The documentation tells you that this will retrieve the taxonomy information for a given species.  Their examples are human (taxon:9606).  Arabidopsis is taxon:3701.\n",
    "\n",
    "We want to know the names of all Arabodiopsis species.  We will retrieve the taxon information for Arabidopsis, and using our new XmlSimple package, we will parse the data in xml format:\n",
    "\n",
    "http://rest.ensembl.org/taxonomy/id/3701?content-type=text/xml\n",
    "\n"
   ]
  },
  {
   "cell_type": "code",
   "execution_count": null,
   "metadata": {
    "collapsed": true
   },
   "outputs": [],
   "source": [
    "require 'net/http'   # this is how you access the Web\n",
    "require 'xmlsimple'\n",
    "#require 'pp'\n",
    "\n",
    "address = URI('http://rest.ensembl.org/taxonomy/id/3701?content-type=text/xml')  # create a \"URI\" object (Uniform Resource Identifier: https://en.wikipedia.org/wiki/Uniform_Resource_Identifier)\n",
    "response = Net::HTTP.get_response(address)  # use the Net::HTTP object \"get_response\" method\n",
    "                                               # to call that address\n",
    "#puts response.body\n",
    "\n",
    "# http://ruby-doc.org/core-1.9.3/String.html#method-i-gsub \n",
    "cleaned_body = response.body.gsub(/<(\\/?)(\\w+)\\s(\\w+)>/, '<\\1\\2\\3>')\n",
    "cleaned_body.gsub!(/<(\\/?)(\\w+)\\s(\\w+)\\s(\\w+)>/, '<\\1\\2\\3\\4>')\n",
    "\n",
    "data = XmlSimple.xml_in(cleaned_body)\n",
    "for child in data[\"data\"][0][\"children\"].each \n",
    "  puts child[\"name\"]\n",
    "end\n",
    "  \n",
    "  \n",
    "\n"
   ]
  },
  {
   "cell_type": "markdown",
   "metadata": {
    "collapsed": true
   },
   "source": [
    "## TASK 5A: Prove that you understand Gems and Documentation by using a different Web resource\n",
    "\n",
    "Use the Gene Ontology again.  Find the Ruby Gem that handles Gene Ontology (GO) files.\n",
    "\n",
    "Reading the documentation, you see that it reads GO from a file, so you will need to create that data file.  Jupyter has specific locations for data files (see the documentation here:  http://jupyter.readthedocs.io/en/latest/projects/jupyter-directories.html)\n",
    "\n",
    "In your code, retrieve the GO Slim Plant Ontology:\n",
    "http://www.geneontology.org/ontology/subsets/goslim_plant.obo\n",
    "and write it to a file (this is how you do that:)\n",
    "\n",
    "<code>\n",
    "    File.open('geneontology.obo', 'w') do |myfile|  # w makes it writable\n",
    "      myfile.puts geneontologycontent  \n",
    "    end  \n",
    "</code>\n",
    "\n",
    "now follow the documentation for the GeneOntology object and try to create a ruby script that outputs the name and definition for GO:0005634"
   ]
  },
  {
   "cell_type": "code",
   "execution_count": 2,
   "metadata": {
    "collapsed": true
   },
   "outputs": [],
   "source": [
    "# put your code here\n",
    "# TASK 5A\n"
   ]
  },
  {
   "cell_type": "markdown",
   "metadata": {},
   "source": [
    "# learn something new in Ruby --> Blocks\n",
    "\n",
    "Look at the documentation for the \"each\" method of the GeneOntology Term object:\n",
    "\n",
    "--------------\n",
    "\n",
    "### Instance Method Details\n",
    "\n",
    "__#each(&block) ⇒ Object__\n",
    "\n",
    "starting with that term, traverses upwards in the tree\n",
    "\n",
    "----------------\n",
    "\n",
    "so if you call term.each it will go up the Gene Ontology tree until it gets to \"root\" (depending on the tree, this will be \"biological proces\", \"molecular function\", or \"cellular component\").... but what does it do with those terms???\n",
    "\n",
    "This is what a \"&block\" is.  It gives you the chance to tell the Object what __you want__ it to do!\n",
    "\n",
    "&block is, therefore, a piece of code that you provide to the method, where the object sends information into your block of code.\n",
    "\n",
    "For example:\n",
    "\n"
   ]
  },
  {
   "cell_type": "code",
   "execution_count": 5,
   "metadata": {},
   "outputs": [
    {
     "name": "stdout",
     "output_type": "stream",
     "text": [
      "nucleic acid binding\n",
      "binding\n",
      "molecular_function\n",
      "\n",
      "\n",
      "The term nucleic acid binding is at level 2 of the ontology\n",
      "The term binding is at level 1 of the ontology\n",
      "The term molecular_function is at level 0 of the ontology\n"
     ]
    },
    {
     "data": {
      "text/plain": [
       "[<[1]GO:0005488: binding is_a.size=1>]"
      ]
     },
     "execution_count": 5,
     "metadata": {},
     "output_type": "execute_result"
    }
   ],
   "source": [
    "require 'net/http'   # this is how you access the Web\n",
    "require 'gene_ontology'  # the gem for gene ontology obo files\n",
    "\n",
    "go = GeneOntology.new.from_file(\"geneontology.obo\")\n",
    "\n",
    "term = go.id_to_term['GO:0003676']  # \"nucleotide binding\"\n",
    "\n",
    "\n",
    "# There are two ways to pass a block of code.  You can do it all on one line:\n",
    "term.each {|thisterm| puts thisterm.name}\n",
    "\n",
    "\n",
    "puts \"\"; puts\"\"\n",
    "\n",
    "\n",
    "# or you can do it on multiple lines as follows\n",
    "term.each do |thisterm| \n",
    "  puts \"The term #{thisterm.name} is at level #{thisterm.level} of the ontology\"\n",
    "end\n",
    "\n"
   ]
  },
  {
   "cell_type": "markdown",
   "metadata": {},
   "source": [
    "## note that this is an example of \"method overriding\"\n",
    "\n",
    "You already know what \".each\" does on list objects...\n",
    "\n"
   ]
  },
  {
   "cell_type": "code",
   "execution_count": 41,
   "metadata": {},
   "outputs": [
    {
     "name": "stdout",
     "output_type": "stream",
     "text": [
      "number 1 plus 1 equals 2\n",
      "number 2 plus 1 equals 3\n",
      "number 3 plus 1 equals 4\n",
      "number 4 plus 1 equals 5\n"
     ]
    },
    {
     "data": {
      "text/plain": [
       "[1, 2, 3, 4]"
      ]
     },
     "execution_count": 41,
     "metadata": {},
     "output_type": "execute_result"
    }
   ],
   "source": [
    "[1,2,3,4].each do |number|\n",
    "  puts \"#{number} plus 1 equals #{number + 1}\"\n",
    "end\n"
   ]
  },
  {
   "cell_type": "markdown",
   "metadata": {},
   "source": [
    "The author of the GeneOntology object wanted to provide exactly the same functionality, but could not use the native .each method of the object, because that would list __everything__, not just the parent classes.  So the author implemented their own \".each\" method, which takes a block, and then traverses along the ontology tree.  You can see the code in \n",
    "\n",
    "    /home/osboxes/.rvm/gems/ruby-2.4.2/gems/gene_ontology-0.0.1/lib/gene_ontology.rb\n",
    "\n",
    "<code>\n",
    "    def each(&block)\n",
    "      block.call(self)\n",
    "      is_a.each do |term|\n",
    "        term.each(&block)\n",
    "      end\n",
    "    end\n",
    "\n",
    "</code>\n",
    "\n",
    "So now their code functions exactly like .each does on a list, but the list is generated by calling other methods (is_a) that traverse up the ontology tree.\n",
    "\n",
    "That's quite cool!\n",
    "\n",
    "<pre>\n",
    "\n",
    "\n",
    "</pre>\n"
   ]
  },
  {
   "cell_type": "markdown",
   "metadata": {},
   "source": [
    "# Prove you understand\n",
    "\n",
    "Create code that will search for the term \"receptor activity\", then it reports the GO number, GO Term, and the definition (def) for each of the parent terms."
   ]
  },
  {
   "cell_type": "markdown",
   "metadata": {},
   "source": [
    "<pre>\n",
    "  \n",
    "\n",
    "\n",
    "</pre>\n",
    "# Documentation\n",
    "\n",
    "The documentation provided on the rubygems website is contained inside of the Gems.  The authors provide documentation in either RDoc format, or YARD format.  We are going to look at YARD.\n",
    "\n",
    "Good documentation is __critical__ if you write code for others to use!  \n",
    "\n",
    "__NOTE:  I will now start including the quality of documentation in my evaluation of your assignments!!!__\n",
    "\n",
    "\n",
    "YARD is explained on their website:  https://yardoc.org/guides/index.html\n",
    "\n",
    "We will begin with a simple Patient.rb class:\n",
    "\n"
   ]
  },
  {
   "cell_type": "code",
   "execution_count": 52,
   "metadata": {},
   "outputs": [
    {
     "data": {
      "text/plain": [
       ":initialize"
      ]
     },
     "execution_count": 52,
     "metadata": {},
     "output_type": "execute_result"
    }
   ],
   "source": [
    "\n",
    "class Patient\n",
    "\n",
    "  attr_accessor :name\n",
    "  attr_accessor :age \n",
    "  \n",
    "  def initialize (thisname = \"Some Person\", thisage = \"10\") \n",
    "      @name = thisname \n",
    "      @age = 10\n",
    "  end\n",
    "  \n",
    "end\n",
    "\n",
    "\n"
   ]
  },
  {
   "cell_type": "markdown",
   "metadata": {},
   "source": [
    "This class has three methods:  \"initialize\", (called with Patient.new()),  \"name\" and \"age\"\n",
    "\n",
    "We should document the behavior of these.   This is how it looks when we document the object using YARD tags\n"
   ]
  },
  {
   "cell_type": "code",
   "execution_count": null,
   "metadata": {
    "collapsed": true
   },
   "outputs": [],
   "source": [
    "# == Patient\n",
    "#\n",
    "# This is a simple representation of a patient\n",
    "# with name and age attributes\n",
    "#\n",
    "# == Summary\n",
    "# \n",
    "# This can be used to represent aspects of sick people\n",
    "#\n",
    "\n",
    "class Patient\n",
    "\n",
    "  # Get/Set the patient's name\n",
    "  # @!attribute [rw]\n",
    "  # @return [String] The name\n",
    "  attr_accessor :name\n",
    "\n",
    "  # Get/Set the patient's age\n",
    "  # @!attribute [rw]\n",
    "  # @return [Integer] The age\n",
    "  attr_accessor :age \n",
    "  \n",
    "  # Create a new instance of Patient\n",
    "\n",
    "  # @param name [String] the name of the patient as a String\n",
    "  # @param age [Integer] the age of the patient as a Integer\n",
    "  # @return [Patient] an instance of Patient\n",
    "  def initialize (name = \"Some Person\", age = 10) \n",
    "      @name = name \n",
    "      @age = age\n",
    "  end\n",
    "end\n"
   ]
  },
  {
   "cell_type": "markdown",
   "metadata": {},
   "source": [
    "# Generating YARD documentation\n",
    "\n",
    "open a terminal window.  Browse to /home/osboxes/UPM_BioinfoCourse/Lectures\n",
    "\n",
    "Edit the Patient.rb file to include the YARD documentation above, then save it.\n",
    "\n",
    "Now, in your terminal type:\n",
    "\n",
    "    $  yard doc Patient.rb\n",
    "    \n",
    "You get a short report about how many things were documented.  All of the documentation is in a new folder called \"doc\"\n",
    "\n",
    "Staying at the command prompt, type:\n",
    "\n",
    "    $ firefox ./doc/index.html\n",
    "    \n",
    "There is your documentation!  \n",
    "\n",
    "\n",
    "\n",
    "# try it yourself\n",
    "\n",
    "Explore the documentation for yourself.  look at the http://www.rubydoc.info/gems/yard/file/docs/GettingStarted.md  website and try some other tags and markup.  Also look-up RDoc, since the yard documentation tool can understand RDoc instructions also.\n",
    "    "
   ]
  },
  {
   "cell_type": "markdown",
   "metadata": {},
   "source": [
    "# Good Code \"Hygiene\"\n",
    "\n",
    "When you create a Class that you expect others to use, you should be polite and put your Classes into their own \"Namespace\".\n",
    "\n",
    "For example, if you have a class \"Patient\", you could reasonably assume that someone else, somewhere in the world, has also defined a class called \"Patient\".  If one of your users has downloaded both your code, and that other person's code, they will now have two different Class definitions for \"Patient\", and \n",
    "\n",
    "<code>require 'Patient\"</code>\n",
    "\n",
    "will now be an ambiguous statement.\n",
    "\n",
    "What to do?   Simply put your objects into a folder that has a name that is unlikely to be used by anyone else - for example, your initials, or the project name.  \n",
    "\n",
    "Look in the <code>UPM_BioinfoCourse/Lectures/</code> folder.  You will see there is a folder called \"MDW_Objects\".  Inside of that folder I have a file (Patient.rb) containing a Class definition (Patient2).\n",
    "\n",
    "This is what you do:\n"
   ]
  },
  {
   "cell_type": "code",
   "execution_count": 1,
   "metadata": {},
   "outputs": [
    {
     "data": {
      "text/plain": [
       "#<Patient2:0x00005597270727e0 @name=\"Some Person\">"
      ]
     },
     "execution_count": 1,
     "metadata": {},
     "output_type": "execute_result"
    }
   ],
   "source": [
    "require './MDW_Objects/Patient'  # my class definition is now in a different \"namespace\",\n",
    "\n",
    "p = Patient2.new()\n"
   ]
  }
 ],
 "metadata": {
  "kernelspec": {
   "display_name": "Ruby 2.4.2",
   "language": "ruby",
   "name": "ruby"
  },
  "language_info": {
   "file_extension": ".rb",
   "mimetype": "application/x-ruby",
   "name": "ruby",
   "version": "2.4.2"
  }
 },
 "nbformat": 4,
 "nbformat_minor": 2
}
