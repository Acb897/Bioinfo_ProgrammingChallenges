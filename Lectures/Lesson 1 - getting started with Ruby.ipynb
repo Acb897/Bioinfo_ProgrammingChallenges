{
 "cells": [
  {
   "cell_type": "markdown",
   "metadata": {},
   "source": [
    "# A Ruby \"quick reference\"\n",
    "\n",
    "You might want to keep this page open in your browser at all times, so you can quickly look-up the Ruby syntax/language structures\n",
    "\n",
    "https://spontaneousderivation.com/quick-references/ruby-quick-reference/"
   ]
  }
 ],
 "metadata": {
  "kernelspec": {
   "display_name": "Ruby 2.4.2",
   "language": "ruby",
   "name": "ruby"
  },
  "language_info": {
   "file_extension": ".rb",
   "mimetype": "application/x-ruby",
   "name": "ruby",
   "version": "2.4.2"
  }
 },
 "nbformat": 4,
 "nbformat_minor": 2
}
