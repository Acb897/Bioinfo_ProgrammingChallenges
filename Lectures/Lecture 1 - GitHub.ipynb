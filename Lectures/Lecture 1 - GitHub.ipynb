{
 "cells": [
  {
   "cell_type": "markdown",
   "metadata": {},
   "source": [
    "# About the Jupyter Interface\n",
    "\n",
    "Details of how to use Markdown are here:  https://daringfireball.net/projects/markdown/syntax\n",
    "\n"
   ]
  },
  {
   "cell_type": "markdown",
   "metadata": {},
   "source": [
    "# GitHub:    https://github.com/ \n",
    "\n",
    "Distributed Version Control System (DVCS)\n",
    "\n",
    "A copy of your software exists in two (or more) places - on your own computer, and on the GitHub server.  \n",
    "\n",
    "A copy also exists on any computer who has “cloned” your software - maybe another computer owned by you, maybe another person’s computer\n",
    "\n"
   ]
  },
  {
   "cell_type": "markdown",
   "metadata": {},
   "source": [
    "# Why Git?\n",
    "\n",
    "* Multiple people can work on the same code at the same time\n",
    "\n",
    "* Conflicts are highlighted, and the owner of the code is made aware of them\n",
    "\n",
    "* All changes are recorded, and you can go back to old versions\n",
    "\n",
    "* You can work on “new features” of a project, AND work on the main project,  without conflicts (this is called “branching”)\n",
    "\n",
    "* When the new features are finished, you merge them into the main project (“merging”)\n"
   ]
  },
  {
   "cell_type": "markdown",
   "metadata": {},
   "source": []
  }
 ],
 "metadata": {
  "kernelspec": {
   "display_name": "Ruby",
   "language": "ruby",
   "name": "iruby"
  },
  "language_info": {
   "file_extension": ".rb",
   "mimetype": "application/x-ruby",
   "name": "ruby",
   "version": "2.3.1"
  }
 },
 "nbformat": 4,
 "nbformat_minor": 2
}
