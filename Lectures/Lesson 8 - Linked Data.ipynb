{
 "cells": [
  {
   "cell_type": "markdown",
   "metadata": {},
   "source": [
    "# Linked Data\n",
    "\n",
    "Switch to the slide deck on [Google Slides](https://docs.google.com/presentation/d/1STNxE0C_1XPFYw4WKs2UoCPzN44vRKT83VU4zQC0Wvc/)\n",
    "\n",
    "<pre>\n",
    "\n",
    "\n",
    "</pre>\n",
    "\n"
   ]
  }
 ],
 "metadata": {
  "kernelspec": {
   "display_name": "Ruby 2.4.2",
   "language": "ruby",
   "name": "ruby"
  },
  "language_info": {
   "file_extension": ".rb",
   "mimetype": "application/x-ruby",
   "name": "ruby",
   "version": "2.4.2"
  }
 },
 "nbformat": 4,
 "nbformat_minor": 2
}
