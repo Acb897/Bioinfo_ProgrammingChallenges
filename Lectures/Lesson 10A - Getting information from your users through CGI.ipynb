{
 "cells": [
  {
   "cell_type": "markdown",
   "metadata": {},
   "source": [
    "# We need to be Dynamic AND Responsive!\n",
    "\n",
    "So far, all we have done is to create a Static page using a script :-)  This is NOT what we really meant by \"Dynamic\"!\n",
    "\n",
    "CGI defines a way of passing information from the client (your users) to the server (and then to your script).  HTML also defines a set of \"widgets\" that make it easy to collect the information from your users.\n",
    "\n",
    "That is what we will explore now.\n",
    "\n"
   ]
  },
  {
   "cell_type": "markdown",
   "metadata": {},
   "source": [
    "<pre>\n",
    "\n",
    "\n",
    "</pre>\n",
    "#  Three ways to pass information to your script\n",
    "\n",
    "1. In the URL as a part of the URL path (as is common with REST)\n",
    "2. As key/value parameters in an HTTP GET URL (like you have seen in most of the “REST” interfaces in this course)\n",
    "3. In a HTTP FORM\n",
    "\n",
    "The CGI Protocol defines **HOW** your script gets that data.  Ruby libraries will make it easy, but I want to show you the basics first so that you (more) deeply understand what these libraries are doing for you.\n",
    "\n",
    "\n"
   ]
  },
  {
   "cell_type": "markdown",
   "metadata": {},
   "source": [
    "<pre>\n",
    "\n",
    "\n",
    "</pre>\n",
    "\n",
    "# The System Environment and the Ruby ENV class\n",
    "\n",
    "\n",
    "Every login to a computer will create a set of “environment” variables, that have values specifically for your account.  e.g. what your PATH is to find software, or what kind of command-prompt you prefer, the language you prefer, etc.  If you want to see your current \"environment\" type at the command prompt:  <code>  $   env  </code>\n",
    "\n",
    "You will see that it is a list of KEY=value pairs.\n",
    "\n",
    "Your Web server is also a “user”, and therefore also has an environment.\n",
    "\n",
    "The [Ruby Class ENV](https://ruby-doc.org/core-2.1.4/ENV.html) is available to all scripts as part of the core Ruby language (you don't have to 'require' it), and this class contains all of the information that is stored in the environment of the Webserver user.\n",
    "\n",
    "The problem is... you cannot run \"env\" as the webserver user!  So how do we see the environment that your Ruby script is running in, when it creates a dynamic web page?  (create the script below, and don't forget to chmod a+x!)  Then access it in your browser\n",
    "\n"
   ]
  },
  {
   "cell_type": "code",
   "execution_count": null,
   "metadata": {
    "collapsed": true
   },
   "outputs": [],
   "source": [
    "#!/usr/bin/ruby\n",
    "\n",
    "print \"Content-Type: text/html  \\n\\n\"\n",
    "\n",
    "ENV.to_a.each {|x| puts x; puts \"<br/>\"}\n",
    "\n",
    "# ENV -> to an array [KEY, value] -> each element goes into x -> print the content of x, followed by a blank line"
   ]
  },
  {
   "cell_type": "markdown",
   "metadata": {},
   "source": [
    "<pre>\n",
    "  \n",
    "\n",
    "  \n",
    "CONTENT_LENGTH 0\n",
    "QUERY_STRING\n",
    "REQUEST_URI /interfaces/t2.rb\n",
    "REDIRECT_STATUS 200\n",
    "SCRIPT_NAME /interfaces/t2.rb\n",
    "SCRIPT_FILENAME /var/www/html/interfaces/t2.rb\n",
    "DOCUMENT_ROOT /var/www/html\n",
    "REQUEST_METHOD GET\n",
    "SERVER_PROTOCOL HTTP/1.1\n",
    "SERVER_SOFTWARE lighttpd/1.4.44\n",
    "GATEWAY_INTERFACE CGI/1.1\n",
    "SERVER_PORT 80\n",
    "SERVER_ADDR 127.0.0.1\n",
    "SERVER_NAME localhost\n",
    "REMOTE_ADDR 127.0.0.1\n",
    "REMOTE_PORT 60318\n",
    "HTTP_HOST localhost\n",
    "HTTP_USER_AGENT Mozilla/5.0 (X11; Ubuntu; Linux x86_64; rv:57.0) Gecko/20100101 Firefox/57.0\n",
    "HTTP_ACCEPT text/html,application/xhtml+xml,application/xml;q=0.9,*/*;q=0.8\n",
    "HTTP_ACCEPT_LANGUAGE en-US,en;q=0.5\n",
    "HTTP_ACCEPT_ENCODING gzip, deflate\n",
    "HTTP_COOKIE username-localhost-8888=\"2|1:0|10:1513339676|23:username-localhost-8888|44:NDU5OGNiZDMyY2IxNDk0ODg3OGQzOWY4NjA4MWVlMGU=|88cc4951e8a51b4b5f0f94305707a4d4d0fbe5986442c9ea6182766c0ae989ac\"; _xsrf=2|83ef6cef|996862e95ac34d7571f8c25b2e9b8405|1513331479\n",
    "HTTP_CONNECTION keep-alive\n",
    "HTTP_UPGRADE_INSECURE_REQUESTS 1 \n",
    "</pre>\n"
   ]
  }
 ],
 "metadata": {
  "kernelspec": {
   "display_name": "Ruby 2.4.2",
   "language": "ruby",
   "name": "ruby"
  },
  "language_info": {
   "file_extension": ".rb",
   "mimetype": "application/x-ruby",
   "name": "ruby",
   "version": "2.4.2"
  }
 },
 "nbformat": 4,
 "nbformat_minor": 2
}
