{
 "cells": [
  {
   "cell_type": "markdown",
   "metadata": {},
   "source": [
    "# Object Oriented Programming\n",
    "\n",
    "Details of how to use Markdown are here:  https://daringfireball.net/projects/markdown/syntax\n",
    "\n",
    "and here:  http://jupyter-notebook.readthedocs.io/en/stable/examples/Notebook/Working%20With%20Markdown%20Cells.html"
   ]
  },
  {
   "cell_type": "markdown",
   "metadata": {},
   "source": [
    "## First, you should get a good Development Environment.  \n",
    "\n",
    "* I suggest using ActiveState Komodo - it is simple, but powerful.\n",
    "* It is already installed on your course VM, but in case you want to install it at home, go to:  https://www.activestate.com/komodo-ide/downloads/edit\n",
    "\n",
    "<pre>\n",
    "\n",
    "\n",
    "</pre>\n",
    "\n"
   ]
  },
  {
   "cell_type": "markdown",
   "metadata": {},
   "source": [
    "![Komodo Download](./files/komodo.png)"
   ]
  },
  {
   "cell_type": "markdown",
   "metadata": {},
   "source": [
    "<pre>\n",
    "  \n",
    "\n",
    "\n",
    "\n",
    "</pre>"
   ]
  },
  {
   "cell_type": "markdown",
   "metadata": {},
   "source": [
    "# Object Oriented Programming Philosophy\n",
    "\n",
    "Software architecture should always be a consideration when you start creating a piece of scholarly software.  Why?\n",
    "\n",
    "* You will need to update it\n",
    "* You will need to debug it\n",
    "* You will need to change/add one or more features\n",
    "* You would *like* to share it\n",
    "* You would *like* to be able to reuse pieces of it\n",
    "* Others should be able to reuse pieces of it\n",
    "* You want to partition the problem into sensible pieces so that it is easier to write the code\n",
    "* You want to reduce the complexity of your task\n",
    "* You want to be able to test those pieces independently of one another (versus running your entire program every time just to find a bug)\n",
    "* You want to be able to easily understand your own software!\n"
   ]
  },
  {
   "cell_type": "markdown",
   "metadata": {},
   "source": [
    "# Object Oriented Programming\n",
    "\n",
    "Achieves all of these results\n",
    "\n",
    "Is a different way of thinking (compared to scripting, as you have been doing so far)\n",
    "\n",
    "Requires you to do some planning before you start writing...\n"
   ]
  },
  {
   "cell_type": "markdown",
   "metadata": {},
   "source": [
    "<pre>\n",
    "\n",
    "\n",
    "\n",
    "\n",
    "</pre>\n",
    "\n",
    "\n",
    "\n",
    "# The Main Ideas"
   ]
  },
  {
   "cell_type": "markdown",
   "metadata": {},
   "source": [
    "## Classes\n",
    "\n",
    "A “Class” is a definition of an entity that (sometimes) represents something ‘in the real world’, like a Scientific Paper or a President.  The definition includes a combination of the *properties* of that entity, and the kinds of *actions* that members of that kind of entity can participate in.\n",
    "\n",
    "## Properties (also called \"Attributes\")\n",
    "\n",
    "A \"Scientific Paper\" has Properties:\n",
    "* DOI\n",
    "* a title\n",
    "* an author\n",
    "* Publication Date\n",
    "* number of pages\n",
    "\n",
    "## Methods (\"actions\")\n",
    "A \"Scientific Paper\" has Actions: \n",
    "* submit\n",
    "* revise\n",
    "* retract\n",
    "\n",
    "## Objects, a.k.a. Instances a.k.a. Individuals\n",
    "An Object is a member of a Class.  Objects have specific values for the properties that are defined in that class, and may participate in the Class Methods.\n",
    "<pre>\n",
    "\n",
    "\n",
    "</pre>\n",
    "\n",
    "\n",
    "##  For Example\n",
    "**Class**:  President\n",
    "\n",
    "**Properties**:\n",
    "* Age\n",
    "* Hair Color\n",
    "* Years in Office\n",
    "* Pet\n",
    "\n",
    "**Methods**: \n",
    "* give_speech\n",
    "* sign_law\n",
    "* tell_lie\n",
    "\n",
    "**Objects** (instances):\n",
    "* Donald Trump (age=71; hair color=orange; years=1; pet=none)\n",
    "* Bill Clinton (age=46; hair color=brown; years=8; pet=cat)\n",
    "* George Bush (age=54; hair color=grey; years=8; pet=dog)\n",
    "* Mariano Rajoy (age=62; hair color=grey; years=8; pet=dog)\n",
    "\n",
    "Note that every instance (object) has the same set of properties, defined by the Class, but the properties have different VALUES for each instance.\n",
    "\n"
   ]
  },
  {
   "cell_type": "markdown",
   "metadata": {},
   "source": [
    "\n",
    "<pre>\n",
    "\n",
    "\n",
    "</pre>\n",
    "\n",
    "# Why bother with Object Oriented Programming?\n",
    "\n",
    "## Objective 1:  Encapsulation\n",
    "\n",
    "“Encapsulation” means that you group together all of the properties and methods that are appropriate for that “thing”.  The objective is to make your software more intuitive or common-sense.  Also, to avoid name-conflicts.  For example:\n",
    "\n",
    "* Papers can be submitted or edited\n",
    "* Grant Proposals can be submitted or edited\n",
    "\n",
    "If I see the command “submit” in my software, what does it mean?  How can I know?  \n",
    "\n",
    "I can associate it with a Class, to distinguish between \"submit\" for the Paper class, and \"submit\" for the Grant Proposal class.  In Ruby, this would look like <code> Paper.submit</code>   vs.  <code>Grant.submit </code>\n",
    "<pre>\n",
    "\n",
    "\n",
    "</pre>\n",
    "\n",
    "\n",
    "## Objective 2:  Abstraction\n",
    "\n",
    "As much as possible, you want your software to represent WHAT is being done, rather than HOW it is done.  This makes  your software *much* easier to understand (both by others, and by **you**!)\n",
    "\n",
    "**WHAT**:  Paper.submit\n",
    "\n",
    "\n",
    "**HOW**: Gather the authorship list, the title, and the text of the paper.  Connect to the journal website.  Submit the information.  Wait for reply.  Extract the submission id and editors note from the reply.  Give this information to the submitter.\n",
    "\n",
    "\n",
    "Clearly, it is easier to say \"Paper.submit\" than to read that list of sub-activities and try to understand what they are doing.  You have \"abstracted\" the complexity of submitting a paper by giving a name to that collection of sub-activities.\n",
    "<pre>\n",
    "\n",
    "\n",
    "</pre>\n",
    "\n",
    "\n",
    "## Objective 3:  Reuse and Inheritence\n",
    "\n",
    "As you saw above, we created four different presidents using a single President class.  Ths is \"reuse\" - all individuals of a given class can hold the same information, and execute the same actions, without any additional code.\n",
    "\n",
    "A different kind of reuse is called \"Inheritence\".  Notice that our President class has properties that are true of all humans - for example, Hair color, and age.  In this case, it would be better to create multiple classes, that use \"Inheritence\":\n",
    "\n",
    " **Class** “Human” \n",
    "\n",
    "    property: age\n",
    "    property: hair color\n",
    "\n",
    " **Class** \"President” \n",
    "\n",
    "    Inherit:  Class \"Human\"\n",
    "    Property:  “years in office”\n",
    "\n",
    "Instances of the President Class would then have “age”, “hair color” and “time_in_office” properties\n",
    "\n",
    "This is Inheritance.  Reduces amount of code, and allows you to create different kinds of Humans more easily.\n",
    "<pre>\n",
    "\n",
    "\n",
    "</pre>\n",
    "\n",
    "\n",
    "\n"
   ]
  },
  {
   "cell_type": "code",
   "execution_count": null,
   "metadata": {
    "collapsed": true
   },
   "outputs": [],
   "source": []
  },
  {
   "cell_type": "markdown",
   "metadata": {},
   "source": [
    "# Let's Get Started!\n",
    "\n",
    "In Ruby, you can put your Class definitions in the same file as the rest of your code.  For today, that is what we will do.  **(normally, this is not a good idea.  You want your code to be easy-to-read, so it is better to put your Classes in their own file... we will learn how to do that later, and for the rest of the course, I want you to separate your Objects from the rest of your code, please.  Thank you!)**\n",
    "\n",
    "### Creating a \"Patient\" Class\n"
   ]
  },
  {
   "cell_type": "code",
   "execution_count": null,
   "metadata": {
    "collapsed": true
   },
   "outputs": [],
   "source": [
    "\n",
    "class Patient\n",
    "  # details about the class go here...\n",
    "end\n"
   ]
  },
  {
   "cell_type": "markdown",
   "metadata": {},
   "source": [
    "### Creating a Patient object (instance)\n"
   ]
  },
  {
   "cell_type": "code",
   "execution_count": null,
   "metadata": {
    "collapsed": true
   },
   "outputs": [],
   "source": [
    "patient1 = Patient.new()\n",
    "puts patient1\n"
   ]
  },
  {
   "cell_type": "markdown",
   "metadata": {},
   "source": [
    "<pre>\n",
    "\n",
    "\n",
    "</pre>\n",
    "### Creating a Patient object (instance) with a Property called \"name\"\n"
   ]
  },
  {
   "cell_type": "code",
   "execution_count": null,
   "metadata": {
    "collapsed": true
   },
   "outputs": [],
   "source": [
    "\n",
    "class Patient\n",
    "\n",
    "  def initialize\n",
    "      @name = \"Mark Wilkinson\"  # this is a property called \"name\", with default \"Mark Wilkinson\"\n",
    "  end\n",
    "\n",
    "  # details about the class go here...\n",
    "end\n",
    "\n",
    "\n",
    "\n",
    "patient1 = Patient.new\n",
    "puts patient1  # shows you the Class name for this patient, and its internal ID\n",
    "puts patient1.instance_variable_get(:@name)   # print the value of \"@name\". \n",
    "                                              # this is horrible!  Is there a better way?\n"
   ]
  },
  {
   "cell_type": "markdown",
   "metadata": {},
   "source": [
    "<pre>\n",
    "\n",
    "\n",
    "</pre>\n",
    "### Creating a Patient object (instance) with an *accessible* Property called \"name\"\n"
   ]
  },
  {
   "cell_type": "code",
   "execution_count": null,
   "metadata": {
    "collapsed": true
   },
   "outputs": [],
   "source": [
    "class Patient\n",
    "\n",
    "  attr_accessor :name  # create an \"attribute accessor\" (read and write) for \"name\"\n",
    "  def initialize\n",
    "      @name = \"Mark Wilkinson\"  # this is a property called \"name\"\n",
    "  end\n",
    "\n",
    "  # details about the class go here...\n",
    "end\n",
    "\n",
    "\n",
    "patient1 = Patient.new\n",
    "puts patient1.name   # <---  MUCH better!\n"
   ]
  },
  {
   "cell_type": "markdown",
   "metadata": {},
   "source": [
    "<pre>\n",
    "\n",
    "\n",
    "</pre>\n",
    "### Change the Class Initialize to assign property values on the creation of the object\n"
   ]
  },
  {
   "cell_type": "code",
   "execution_count": null,
   "metadata": {
    "collapsed": true
   },
   "outputs": [],
   "source": [
    "class Patient\n",
    "\n",
    "  attr_accessor :name  # create an \"attribute accessor\" (read and write) for \"name\"\n",
    "  \n",
    "  def initialize (thisname = \"Some Person\") # get a name from the \"new\" call, or set a default\n",
    "      @name = thisname  \n",
    "  end\n",
    "\n",
    "  # details about the class go here...\n",
    "end\n",
    "\n",
    "\n",
    "patient1 = Patient.new\n",
    "puts patient1.name   # Some Person\n",
    "\n",
    "patient2 = Patient.new(\"Mark Wilkinson\")  # this value is passed to the \"thisname\" variable in ->initialize()\n",
    "puts patient2.name   # Mark Wilkinson\n",
    "\n"
   ]
  },
  {
   "cell_type": "markdown",
   "metadata": {},
   "source": [
    "<pre>\n",
    "\n",
    "\n",
    "</pre>\n",
    "### Finally, put the code into its own file, and then import it\n",
    "\n",
    "You should use Komodo Edit to write your Ruby Classes.  Open the \"Patient.rb\" file from the bioinfo course Git in Komodo now.  Feel free to edit it, and explore!   \n",
    "\n",
    "(see https://github.com/markwilkinson/UPM_BioinfoCourse/blob/master/Lectures/Patient.rb)\n",
    "\n"
   ]
  },
  {
   "cell_type": "code",
   "execution_count": null,
   "metadata": {
    "collapsed": true
   },
   "outputs": [],
   "source": [
    "\n",
    "#load \"Patient.rb\"\n",
    "require \"./Patient.rb\"\n",
    "\n",
    "\n",
    "patient1 = Patient.new\n",
    "puts patient1.name   # Some Person (the default set by the Class)\n",
    "\n",
    "patient2 = Patient.new(\"Mark Wilkinson\")\n",
    "puts patient2.name   # Mark Wilkinson\n",
    "\n"
   ]
  },
  {
   "cell_type": "markdown",
   "metadata": {},
   "source": [
    "<pre>\n",
    "\n",
    "\n",
    "</pre>\n",
    "# More Advanced Objects\n",
    "## A more useful Patient Class\n",
    "\n",
    "We will create a Patient class with more interesting Properties\n",
    "\n"
   ]
  },
  {
   "cell_type": "code",
   "execution_count": null,
   "metadata": {
    "collapsed": true
   },
   "outputs": [],
   "source": [
    "class Patient\n",
    "\n",
    "  attr_accessor :name  \n",
    "  attr_accessor :healthID\n",
    "  attr_accessor :diseases\n",
    "  attr_accessor :age\n",
    "  \n",
    "  def initialize (thisname = \"Some Person\", thisage = \"0\", thisid = \"00000000\", hasdiseases = []) # get a name from the \"new\" call, or set a default\n",
    "    @name = thisname\n",
    "    @healthID = thisid\n",
    "    @diseases = hasdiseases\n",
    "    @age = thisage\n",
    "  end\n",
    "\n",
    "  # lets create a METHOD to check if the patient has a disease\n",
    "  def has_disease (somedisease)\n",
    "    if diseases.include?(somedisease)   # the \"include?\" method for lists/arrays (returns true or false)\n",
    "      return \"Patient Has #{somedisease} disease\"   # the use of #{xx} to capture the variable value in a string\n",
    "    else\n",
    "      return \"Patient does not have #{somedisease} disease\"\n",
    "    end\n",
    "  end\n",
    "  \n",
    "  \n",
    "end\n",
    "\n",
    "# =====================================================================================\n",
    "\n",
    "\n",
    "p = Patient.new()\n",
    "puts p.name, p.age, p.healthID, p.diseases\n",
    "\n",
    "puts; puts\n",
    "\n",
    "p2 = Patient.new(\"Mark Wilkinson\", \"48\", \"163483\", [\"Gaming Addict\", \"Oversleeper\"])\n",
    "puts p2.name, p2.age, p2.healthID, p2.diseases\n",
    "\n",
    "puts; puts\n",
    "\n",
    "puts p2.has_disease(\"Oversleeper\")\n",
    "puts p2.has_disease(\"Overambition\")\n",
    "  \n"
   ]
  },
  {
   "cell_type": "markdown",
   "metadata": {},
   "source": [
    "<pre>\n",
    "\n",
    "\n",
    "</pre>\n",
    "## The same Patient Class, but with better initialization\n",
    "This time, we will use a \"better ideom\" for the initialization - that is, we will use a Hash, and pick the values from that hash based on its keys, or set defaults.  Note that we are using Ruby SYMBOLS (:keyname) as the hash keys.  Discuss why this is useful... and the rare rare case where it is a bad idea.\n",
    "\n"
   ]
  },
  {
   "cell_type": "code",
   "execution_count": null,
   "metadata": {
    "collapsed": true
   },
   "outputs": [],
   "source": [
    "class Patient\n",
    "\n",
    "  attr_accessor :name  \n",
    "  attr_accessor :healthID\n",
    "  attr_accessor :diseases\n",
    "  attr_accessor :age\n",
    "  \n",
    "  def initialize (params = {}) # get a name from the \"new\" call, or set a default\n",
    "    #thisname = \"Some Person\", thisage = \"0\", thisid = \"00000000\", hasdiseases = []\n",
    "    @name = params.fetch(:name, 'Some Person')\n",
    "    @healthID = params.fetch(:healthID, \"0000000\")\n",
    "    @diseases = params.fetch(:diseases, [])\n",
    "    @age = params.fetch(:age, \"0\")\n",
    "  end\n",
    "\n",
    "  # lets create a METHOD to check if the patient has a disease\n",
    "  def has_disease (somedisease)\n",
    "    if diseases.include?(somedisease)   # the \"include?\" method for lists (returns true or false)\n",
    "      return \"Patient Has #{somedisease} disease\"   # the use of #{xx} to capture the variable value in a string\n",
    "    else\n",
    "      return \"Patient does not have #{somedisease} disease\"\n",
    "    end\n",
    "  end\n",
    "  \n",
    "  \n",
    "end\n",
    "\n",
    "# =====================================================================================\n",
    "\n",
    "\n",
    "\n",
    "p2 = Patient.new(\n",
    "  :name => \"Mark Wilkinson\", \n",
    "  :age => \"48\", \n",
    "  :healthID => \"163483\", \n",
    "  :diseases => [\"Gaming Addict\", \"Oversleeper\"]\n",
    "  )\n",
    "puts p2.name, p2.age, p2.healthID, p2.diseases\n",
    "\n",
    "puts; puts\n",
    "\n",
    "puts p2.has_disease(\"Oversleeper\")\n",
    "puts p2.has_disease(\"Overambition\")\n",
    "  "
   ]
  },
  {
   "cell_type": "markdown",
   "metadata": {},
   "source": [
    "<pre>\n",
    "\n",
    "\n",
    "</pre>\n",
    "# Basic Object Inheritence\n",
    "Now we will create a Patient class that inherits from a Human class.  Humans have the properties shared by all humans, while Patients have\n",
    "extra properties like diseases\n",
    "  \n"
   ]
  },
  {
   "cell_type": "code",
   "execution_count": null,
   "metadata": {
    "collapsed": true
   },
   "outputs": [],
   "source": [
    "class Human   # a base Class \n",
    "\n",
    "  attr_accessor :name  \n",
    "  attr_accessor :age\n",
    "  \n",
    "  def initialize (params = {}) # get a name from the \"new\" call, or set a default\n",
    "    #thisname = \"Some Person\", thisage = \"0\", thisid = \"00000000\", hasdiseases = []\n",
    "    @name = params.fetch(:name, 'Some Person')\n",
    "    @age = params.fetch(:age, \"0\")\n",
    "  end\n",
    "  \n",
    "end\n",
    "\n",
    "\n",
    "class HumanPatient < Human   # This is where the inheritence happens, using the \"<\" symbol\n",
    "                              #  NOTE:  We call this class \"HumanPatient\" only because we have already defined\n",
    "                              # a class \"Patient\" in the box above!  (the code boxes in Jupyter are NOT independent!)\n",
    "  attr_accessor :healthID\n",
    "  attr_accessor :diseases\n",
    "  \n",
    "  def initialize (params = {}) # get a name from the \"new\" call, or set a default\n",
    "    #thisname = \"Some Person\", thisage = \"0\", thisid = \"00000000\", hasdiseases = []\n",
    "    @healthID = params.fetch(:healthID, \"0000000\")\n",
    "    @diseases = params.fetch(:diseases, [])\n",
    "  end\n",
    "\n",
    "  # lets create a METHOD to check if the patient has a disease\n",
    "  def has_disease (somedisease)\n",
    "    if diseases.include?(somedisease)   # the \"include?\" method for lists (returns true or false)\n",
    "      return \"Patient Has #{somedisease} disease\"   # the use of #{xx} to capture the variable value in a string\n",
    "    else\n",
    "      return \"Patient does not have #{somedisease} disease\"\n",
    "    end\n",
    "  end\n",
    "  \n",
    "  \n",
    "end\n",
    "\n",
    "\n",
    "# =====================================================================================\n",
    "\n",
    "\n",
    "# this is the same code as above, but now using our new HumanPatient class\n",
    "p2 = HumanPatient.new(\n",
    "  :name => \"Mark Wilkinson\",      # inherited from Human\n",
    "  :age => \"48\",                   # inherited from Human\n",
    "  :healthID => \"163483\", \n",
    "  :diseases => [\"Gaming Addict\", \"Oversleeper\"]\n",
    "  )\n",
    "puts p2.name, p2.age, p2.healthID, p2.diseases\n",
    "\n",
    "puts; puts\n",
    "\n",
    "puts p2.has_disease(\"Oversleeper\")\n",
    "puts p2.has_disease(\"Overambition\")"
   ]
  },
  {
   "cell_type": "markdown",
   "metadata": {},
   "source": [
    "<pre>\n",
    "\n",
    "\n",
    "</pre>\n",
    "# Validation\n",
    "The <code>attr_accessor</code> is very useful; however, it isn't very \"rigorous\".  Often you want to be sure that\n",
    "the values assigned to a property are of a specific type.  In this case, we need to explicitly create the functions\n",
    "that get/set the value of a property, so that we can test that they are valid.  \n",
    "\n",
    "In this example, we are going to create a \"Disease\" Class, and then make sure that all of the diseases passed to the HumanPatient are of type \"Disease\".\n"
   ]
  },
  {
   "cell_type": "code",
   "execution_count": 15,
   "metadata": {},
   "outputs": [
    {
     "name": "stdout",
     "output_type": "stream",
     "text": [
      "First Attempt - using strings...\n",
      "note that Diabetes is not a Disease object - ignoring...\n",
      "note that Thyroiditis is not a Disease object - ignoring...\n",
      "\n",
      "\n",
      "Second Attempt - using Disease objects\n",
      "YES!!!\n",
      "YES!!!\n",
      "this patient has Diabetes with MeSH Code C19.246\n",
      "this patient has Thyroiditis with MeSH Code C19.874.871\n"
     ]
    },
    {
     "data": {
      "text/plain": [
       "[#<Disease:0x00000001348018 @name=\"Diabetes\", @mesh=\"C19.246\">, #<Disease:0x00000001349c10 @name=\"Thyroiditis\", @mesh=\"C19.874.871\">]"
      ]
     },
     "execution_count": 15,
     "metadata": {},
     "output_type": "execute_result"
    }
   ],
   "source": [
    "\n",
    "class Disease  \n",
    "  \n",
    "  attr_accessor :name  \n",
    "  attr_accessor :mesh\n",
    "  \n",
    "  def initialize (params = {})\n",
    "    @name = params.fetch(:name, 'unknown disease')\n",
    "    @mesh = params.fetch(:mesh, \"0000000\")\n",
    "  end\n",
    "  \n",
    "end\n",
    "\n",
    "\n",
    "\n",
    "class Human   \n",
    "\n",
    "  attr_accessor :name  \n",
    "  attr_accessor :age\n",
    "  \n",
    "  def initialize (params = {}) # get a name from the \"new\" call, or set a default\n",
    "    #thisname = \"Some Person\", thisage = \"0\", thisid = \"00000000\", hasdiseases = []\n",
    "    @name = params.fetch(:name, 'Some Person')\n",
    "    @age = params.fetch(:age, \"0\")\n",
    "  end\n",
    "  \n",
    "end\n",
    "\n",
    "\n",
    "\n",
    "\n",
    "\n",
    "class BetterHumanPatient < Human   \n",
    "  \n",
    "  attr_accessor :healthID\n",
    "\n",
    "  # there are two methods with the same name, but different \"signatures\"\n",
    "  # the first has no arguments, and it simply returns the current value of @diseases\n",
    "  def diseases\n",
    "    return @diseases\n",
    "  end\n",
    "  \n",
    "  # the second has an argument - it is called when you say diseases = [X,Y]\n",
    "  def diseases=(newvalue) # the newvalue is a list of diseases\n",
    "    \n",
    "    newlist = Array.new  # create an array to hold the new list of diseases\n",
    "    for disease in newvalue.each    # this is a for-loop in Ruby\n",
    "      if disease.is_a?(Disease)     # use the \"is_a?\" method to check the type of object\n",
    "                                    # the call respond_to?  is better\n",
    "        newlist << disease          #   this is how you add things to an array in Ruby\n",
    "      else\n",
    "        puts \"note that #{disease} is not a Disease object - ignoring...\"\n",
    "      end\n",
    "    end\n",
    "    @diseases = newlist   # now set the value of @diseases to the new list of validated Disease objects\n",
    "  end\n",
    "  \n",
    "  \n",
    "  def initialize (params = {}) # get a name from the \"new\" call, or set a default\n",
    "    #thisname = \"Some Person\", thisage = \"0\", thisid = \"00000000\", hasdiseases = []\n",
    "    @healthID = params.fetch(:healthID, \"0000000\")\n",
    "  end\n",
    "\n",
    "  # lets create a METHOD to check if the patient has a disease\n",
    "  def has_disease (somedisease)\n",
    "    if diseases.include?(somedisease)   # the \"include?\" method for lists (returns true or false)\n",
    "      return \"Patient Has #{somedisease} disease\"   # the use of #{xx} to capture the variable value in a string\n",
    "    else\n",
    "      return \"Patient does not have #{somedisease} disease\"\n",
    "    end\n",
    "  end\n",
    "  \n",
    "  \n",
    "end\n",
    "\n",
    "diabetes = Disease.new(:name => \"Diabetes\", :mesh => \"C19.246\")\n",
    "thyroiditis = Disease.new(:name => \"Thyroiditis\", :mesh => \"C19.874.871\")\n",
    "\n",
    "p2 = BetterHumanPatient.new(\n",
    "  :name => \"Mark Wilkinson\",      # inherited from Human\n",
    "  :age => \"48\",                   # inherited from Human\n",
    "  :healthID => \"163483\", \n",
    "  )\n",
    "puts \"First Attempt - using strings...\"\n",
    "p2.diseases=[\"Diabetes\", \"Thyroiditis\"]\n",
    "puts;puts;\n",
    "puts \"Second Attempt - using Disease objects\"\n",
    "p2.diseases=[diabetes, thyroiditis]\n",
    "\n",
    "for disease in p2.diseases.each\n",
    "  puts \"this patient has #{disease.name} with MeSH Code #{disease.mesh}\"\n",
    "end\n",
    "\n",
    "\n"
   ]
  },
  {
   "cell_type": "markdown",
   "metadata": {},
   "source": [
    "<pre>\n",
    "\n",
    "\n",
    "</pre>\n",
    "# Prove that you understand\n",
    "\n",
    "\n",
    "### Task 1:  modify the Disease Class so that it validates the MeSH code\n",
    "We want to check that the MeSH code sent to the Disease object is really a MeSH code.  \n",
    "\n",
    "The regular expression to match MeSH codes is:  <code>[A-Z]\\(\\d\\d\\(.\\d\\d\\d\\){0,5})?</code>  \n",
    "\n",
    "[Source: WikiData https://www.wikidata.org/wiki/Property:P672]\n",
    "\n",
    "The way to test a regular expression in Ruby is to create a Regexp object and use it's .match method. For example:\n",
    "\n",
    "    match_letter_a = Regex.new(/a/)   # the regular expression /a/ matches lower-case a\n",
    "    if match_letter_a.match(\"this string contains a letter a\")\n",
    "        puts \"match found!\"\n",
    "    end\n",
    "\n",
    "\n",
    "\n",
    "### Task 2:  modify the BetterHumanPatient Class \"diseases\" method\n",
    "The code currently assumes that it recives an array as an argument (i.e. it calls the \".each\" method on the incoming value, without checking if it really is an array!  That's bad...).  Fix the diseases method of BetterHumanPatient so that it checks that newvalue is really an array, before it calls '.each'.  Think of a solution to this problem, rather than outputting an error...\n",
    "\n",
    "\n",
    "### Task 3:  \"Duck Typing\" in Ruby\n",
    "We learned the \"is_a?\" method, and used it to test the newvalues are type \"Disease\".  However, it is more common in Ruby to use \"Duck Typing\".  That means, instead of asking what Class an Object is, ask if it can respond to the method calls/properties you want to use on it.  e.g. in this case we want to use the \".name\" and \".mesh\" calls.\n",
    "\n",
    "Change the diseases method of BetterHumanPatient to test if the incoming diseases can respond to the .name and .mesh  methods\n",
    "<code>\n",
    "    HINT the 'respond_to?' method is how you do this\n",
    "    for example:\n",
    "   \n",
    "    object = MyObject.new\n",
    "    if object.respond_to?('mesh')\n",
    "         puts \"YES, it is the right kind of object\"\n",
    "    end\n",
    "</code>\n",
    "\n",
    "\n",
    "### Task 4:  People have birthdays!\n",
    "Create a new method \"cumpleano\" that increments a person's age by 1 year\n",
    "prove that it works by incrementing the age of one of your patients and printing it in a sentence like \"my age is now 44 years old\".  Where should the cumpleano method be?"
   ]
  },
  {
   "cell_type": "markdown",
   "metadata": {},
   "source": [
    "<pre>\n",
    "\n",
    "\n",
    "\n",
    "</pre>\n",
    "\n",
    "# Sharing your classes with other people\n",
    "\n",
    "One of the main reasons to create Classes is for re-use, not only by you, but by many other people.  Do achieve this, we need to put our classes into their own files, so that we can share those files.\n",
    "\n",
    "In your Lectures folder there is a class called \"Patient.rb\".  Open that __in Komodo__ so that you can edit it.\n",
    "\n",
    "Update the code to match the latest \"Patient\" definition above:\n",
    "\n",
    "\n"
   ]
  },
  {
   "cell_type": "code",
   "execution_count": null,
   "metadata": {
    "collapsed": true
   },
   "outputs": [],
   "source": [
    "class Patient\n",
    "\n",
    "  attr_accessor :name  \n",
    "  attr_accessor :healthID\n",
    "  attr_accessor :diseases\n",
    "  attr_accessor :age\n",
    "  \n",
    "  def initialize (params = {}) # get a name from the \"new\" call, or set a default\n",
    "    #thisname = \"Some Person\", thisage = \"0\", thisid = \"00000000\", hasdiseases = []\n",
    "    @name = params.fetch(:name, 'Some Person')\n",
    "    @healthID = params.fetch(:healthID, \"0000000\")\n",
    "    @diseases = params.fetch(:diseases, [])\n",
    "    @age = params.fetch(:age, \"0\")\n",
    "  end\n",
    "\n",
    "  # lets create a METHOD to check if the patient has a disease\n",
    "  def has_disease (somedisease)\n",
    "    if diseases.include?(somedisease)   # the \"include?\" method for lists (returns true or false)\n",
    "      return \"Patient Has #{somedisease} disease\"   # the use of #{xx} to capture the variable value in a string\n",
    "    else\n",
    "      return \"Patient does not have #{somedisease} disease\"\n",
    "    end\n",
    "  end\n",
    "  \n",
    "  \n",
    "end"
   ]
  },
  {
   "cell_type": "markdown",
   "metadata": {},
   "source": [
    "# Using classes\n",
    "\n",
    "To use that class, the command is \"require\"."
   ]
  },
  {
   "cell_type": "code",
   "execution_count": 11,
   "metadata": {},
   "outputs": [
    {
     "name": "stdout",
     "output_type": "stream",
     "text": [
      "mark\n"
     ]
    }
   ],
   "source": [
    "#Solution #1\n",
    "require './Patient'  # note that you must supply the path (./) unless you put the modules into a path Ruby knows about\n",
    "                     # we will see this in a later lecture\n",
    "\n",
    "\n",
    "p = Patient.new(\"mark\")\n",
    "puts p.name"
   ]
  },
  {
   "cell_type": "markdown",
   "metadata": {},
   "source": [
    "# When you submit your assignemnts, please create separate files for each Class you create\n",
    "\n",
    "For example:\n",
    "\n",
    "    mainScript.rb\n",
    "\n",
    "    GeneObject.rb\n",
    "    DatabaseObject.rb\n",
    "    CrossObject.rb\n",
    "    \n",
    "\n",
    "Thank you!\n"
   ]
  }
 ],
 "metadata": {
  "kernelspec": {
   "display_name": "Ruby 2.4.2",
   "language": "ruby",
   "name": "ruby"
  },
  "language_info": {
   "file_extension": ".rb",
   "mimetype": "application/x-ruby",
   "name": "ruby",
   "version": "2.4.2"
  }
 },
 "nbformat": 4,
 "nbformat_minor": 2
}
