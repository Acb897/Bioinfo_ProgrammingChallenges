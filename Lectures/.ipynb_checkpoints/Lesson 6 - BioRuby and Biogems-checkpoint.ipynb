{
 "cells": [
  {
   "cell_type": "markdown",
   "metadata": {},
   "source": [
    "# First - read the manuscript\n",
    "\n",
    "https://www.ncbi.nlm.nih.gov/pmc/articles/PMC2951089/\n",
    "\n"
   ]
  },
  {
   "cell_type": "markdown",
   "metadata": {},
   "source": [
    "# What Can BioRuby Do?\n",
    "\n",
    "\n",
    "* Sequence and feature (e.g. gene, exon, intron) creating/reading/writing\n",
    "* Sequence database retrieval (e.g. embl, genbank, swissprot…)\n",
    "* Sequence Alignment (many many types: fasta, clustal, phylip…,..,..,..,..,...,...)\n",
    "* Sequence and feature database creation/query\n",
    "* Sequence search/analysis (e.g. blast, ‘virtual restrictions’, & many more)\n",
    "* Sequence annotation\n",
    "* Sequence assembly\n",
    "* Physical mapping (e.g. clones, contigs, etc.)\n",
    "* Taxonomy representation and database query/retrieval\n",
    "* Bio-ontology manipulation/exploration (e.g. Gene Ontology)\n",
    "* Phenotype representation and query (e.g. OMIM)\n",
    "* Phylogeny analyses\n",
    "* more more more more more more\n",
    "\n",
    "\n",
    "# We will start from the command-line\n",
    "\n",
    "BioRuby provides its own command line (i.e. its own \"terminal window\")\n",
    "\n",
    "    /Lectures/$  bioruby              < NOTE WHERE WE START!  IN THE LECTURES FOLDER!!!!\n",
    "    Creating directory (/home/osboxes/.bioruby/shell/session) ... done\n",
    "    Creating directory (/home/osboxes/.bioruby/shell/plugin) ... done\n",
    "    Creating directory (/home/osboxes/.bioruby/data) ... done\n",
    "\n",
    "    . . . B i o R u b y   i n   t h e   s h e l l . . .\n",
    "\n",
    "      Version : BioRuby 1.5.1 / Ruby 2.4.2\n",
    "\n",
    "    bioruby> \n",
    "\n"
   ]
  },
  {
   "cell_type": "markdown",
   "metadata": {},
   "source": [
    "## Demo of FASTQ Sequence quality masking\n",
    "\n",
    "It is important to mask low-quality base reads before doing a wide range of downstream operations like alignment or SNP-calling.\n",
    "\n",
    "We will now take a sequence file (in <code> Lectures/files/SP1.fq </code>) and we will use the BioRuby command line to mask it.\n",
    "\n",
    "The code to do this is:\n",
    "\n",
    "---------------------------\n",
    "    Bio::FlatFile.open('./files/SP1.fq').each do |entry|  # each sequence will be put into 'entry'\n",
    "        hq = entry.mask(20)                               # set the quality filter to 20\n",
    "        puts hq.output_fasta(entry.entry_id)              # print the FASTA out again, with the same ID as the head\n",
    "    end\n",
    "\n",
    "-----------------\n",
    "In BioRuby's command line it looks like this:\n",
    "\n",
    "\n",
    "<code>\n",
    "bioruby> Bio::FlatFile.open('./files/SP1.fq').each do |entry|\n",
    "**bioruby+**   hq = entry.mask(20)               < NOTE:  'bioruby+' means that it is waiting for more input\n",
    "puts hq.output_fasta(entry.entry_id)\n",
    "end\n",
    "<code>    \n",
    "    \n",
    "\n",
    "\n"
   ]
  },
  {
   "cell_type": "markdown",
   "metadata": {},
   "source": [
    "# Command line as a debugger\n",
    "\n",
    "One possible use of the BioRuby command line is as a debugger - you can explore an object \"live\" until you decide what command you want to use, then you put that command into your code.\n"
   ]
  },
  {
   "cell_type": "markdown",
   "metadata": {},
   "source": [
    "# BioRuby - Documentation\n",
    "\n",
    "http://bioruby.org/rdoc/\n",
    "\n",
    "# Sequences and Sequence Features\n",
    "\n",
    "We will focus on Sequences in this class.  \n",
    "* how to retrieve them\n",
    "* how to write them to files\n",
    "* how to change their formats\n",
    "* how to explore their features (e.g. genes)\n",
    "* how to create databases from them to:\n",
    "* make them easier to find/query\n",
    "\n",
    "# BioRuby's Sequence objects\n",
    "\n",
    "Like all other Ruby objects, you create a new Sequence object using \"new\"\n",
    "\n",
    "First, look at the documentation for Bio::Sequence, Bio::Sequence::AA, Bio::Sequence::NA (http://bioruby.org/rdoc/Bio/Sequence.html and find the other two yourself :-) )\n",
    "\n"
   ]
  },
  {
   "cell_type": "code",
   "execution_count": 33,
   "metadata": {},
   "outputs": [
    {
     "name": "stdout",
     "output_type": "stream",
     "text": [
      "MYSEQ0 = Bio::Sequence.new('ACTTTGC')\n",
      "Bio::Sequence\n",
      "ACTTTGC\n",
      "String\n",
      "\n",
      "MYSEQ1 = Bio::Sequence.auto('ACTTTGC')\n",
      "Bio::Sequence\n",
      "actttgc\n",
      "Bio::Sequence::NA\n",
      "\n",
      "MYSEQ2 = Bio::Sequence::NA.new('ACTTTGC')\n",
      "Bio::Sequence::NA\n",
      "actttgc\n",
      "Bio::Sequence::NA\n",
      "\n",
      "myseq2 = actttgc\n",
      "myseq3 = gcaaagt  (reverse complement)\n",
      "myseq2 = gcaaagt (reverse complement!)\n",
      "gcaaagt\n"
     ]
    }
   ],
   "source": [
    "require 'bio'\n",
    "\n",
    "puts \"MYSEQ0 = Bio::Sequence.new('ACTTTGC')\"\n",
    "myseq0 = Bio::Sequence.new(\"ACTTTGC\")\n",
    "puts myseq0.class\n",
    "puts myseq0.seq\n",
    "puts myseq0.seq.class\n",
    "puts\n",
    "\n",
    "puts \"MYSEQ1 = Bio::Sequence.auto('ACTTTGC')\"\n",
    "myseq1 = Bio::Sequence.auto(\"ACTTTGC\")\n",
    "puts myseq1.class\n",
    "puts myseq1.seq\n",
    "puts myseq1.seq.class\n",
    "puts\n",
    "\n",
    "puts \"MYSEQ2 = Bio::Sequence::NA.new('ACTTTGC')\"\n",
    "myseq2 = Bio::Sequence::NA.new(\"ACTTTGC\")\n",
    "puts myseq2.class\n",
    "puts myseq2.seq\n",
    "puts myseq2.seq.class\n",
    "puts\n",
    "\n",
    "#puts myseq2.public_methods.join(\"\\n\")\n",
    "puts \"myseq2 = #{myseq2}\"\n",
    "\n",
    "myseq3 = myseq2.reverse_complement\n",
    "puts \"myseq3 = #{myseq3}  (reverse complement)\"\n",
    "\n",
    "myseq2.reverse_complement!    #   <---- note the ! ->  When you see this in Ruby, it means the method will change the object\n",
    "puts \"myseq2 = #{myseq2} (reverse complement!)\"\n",
    "\n",
    "# this is the better way to do it:\n",
    "puts myseq2.to_s    # to_s means \"to string\" - you will see this in a lot of Ruby objects\n"
   ]
  },
  {
   "cell_type": "markdown",
   "metadata": {},
   "source": [
    "# Limitations\n",
    "\n",
    "* BioRuby does not have built-in connections to every database on earth (e.g. no connection to TAIR or AraPort)\n",
    " * You will still need to use REST interfaces and regular expressions...often!\n",
    "* BioRuby does not recognize every kind of sequence identifier (e.g. At1g287748 means nothing to BioRuby)\n",
    "\n"
   ]
  },
  {
   "cell_type": "markdown",
   "metadata": {},
   "source": [
    "# Sequence Object Methods\n",
    "\n"
   ]
  },
  {
   "cell_type": "code",
   "execution_count": 48,
   "metadata": {},
   "outputs": [
    {
     "name": "stdout",
     "output_type": "stream",
     "text": [
      "Bio::Sequence::AA\n",
      "[:!, :!=, :!~, :%, :*, :+, :+@, :-@, :<, :<<, :<=, :<=>, :==, :===, :=~, :>, :>=, :[], :[]=, :__id__, :__send__, :ascii_only?, :b, :between?, :bytes, :bytesize, :byteslice, :capitalize, :capitalize!, :casecmp, :casecmp?, :center, :chars, :chomp, :chomp!, :chop, :chop!, :chr, :clamp, :class, :clear, :clone, :codepoints, :codes, :composition, :concat, :count, :crypt, :define_singleton_method, :delete, :delete!, :display, :downcase, :downcase!, :dump, :dup, :each_byte, :each_char, :each_codepoint, :each_line, :empty?, :encode, :encode!, :encoding, :end_with?, :enum_for, :eql?, :equal?, :extend, :force_encoding, :freeze, :frozen?, :getbyte, :gsub, :gsub!, :hash, :hex, :include?, :index, :insert, :inspect, :instance_eval, :instance_exec, :instance_of?, :instance_variable_defined?, :instance_variable_get, :instance_variable_set, :instance_variables, :intern, :is_a?, :itself, :kind_of?, :length, :lines, :ljust, :lstrip, :lstrip!, :match, :match?, :method, :methods, :molecular_weight, :names, :next, :next!, :nil?, :normalize!, :object_id, :oct, :ord, :partition, :prepend, :private_methods, :protected_methods, :public_method, :public_methods, :public_send, :randomize, :remove_instance_variable, :replace, :respond_to?, :reverse, :reverse!, :rindex, :rjust, :rpartition, :rstrip, :rstrip!, :scan, :scrub, :scrub!, :send, :seq, :seq!, :setbyte, :singleton_class, :singleton_method, :singleton_methods, :size, :slice, :slice!, :splice, :splicing, :split, :squeeze, :squeeze!, :start_with?, :strip, :strip!, :sub, :sub!, :subseq, :succ, :succ!, :sum, :swapcase, :swapcase!, :taint, :tainted?, :tap, :to_c, :to_enum, :to_f, :to_fasta, :to_i, :to_json, :to_json_raw, :to_json_raw_object, :to_r, :to_re, :to_s, :to_str, :to_sym, :total, :tr, :tr!, :tr_s, :tr_s!, :trust, :unicode_normalize, :unicode_normalize!, :unicode_normalized?, :unpack, :unpack1, :untaint, :untrust, :untrusted?, :upcase, :upcase!, :upto, :valid_encoding?, :window_search]\n",
      "\n",
      "Bio::Sequence::NA\n",
      "[:!, :!=, :!~, :%, :*, :+, :+@, :-@, :<, :<<, :<=, :<=>, :==, :===, :=~, :>, :>=, :[], :[]=, :__id__, :__send__, :ascii_only?, :at_content, :at_skew, :b, :between?, :bytes, :bytesize, :byteslice, :capitalize, :capitalize!, :casecmp, :casecmp?, :center, :chars, :chomp, :chomp!, :chop, :chop!, :chr, :clamp, :class, :clear, :clone, :codepoints, :codon_usage, :complement, :complement!, :composition, :concat, :count, :crypt, :cut_with_enzyme, :cut_with_enzymes, :define_singleton_method, :delete, :delete!, :display, :dna, :dna!, :downcase, :downcase!, :dump, :dup, :each_byte, :each_char, :each_codepoint, :each_line, :empty?, :encode, :encode!, :encoding, :end_with?, :enum_for, :eql?, :equal?, :extend, :force_encoding, :forward_complement, :forward_complement!, :freeze, :frozen?, :gc_content, :gc_percent, :gc_skew, :getbyte, :gsub, :gsub!, :hash, :hex, :illegal_bases, :include?, :index, :insert, :inspect, :instance_eval, :instance_exec, :instance_of?, :instance_variable_defined?, :instance_variable_get, :instance_variable_set, :instance_variables, :intern, :is_a?, :itself, :kind_of?, :length, :lines, :ljust, :lstrip, :lstrip!, :match, :match?, :method, :methods, :molecular_weight, :names, :next, :next!, :nil?, :normalize!, :object_id, :oct, :ord, :partition, :pikachu, :prepend, :private_methods, :protected_methods, :public_method, :public_methods, :public_send, :randomize, :remove_instance_variable, :replace, :respond_to?, :reverse, :reverse!, :reverse_complement, :reverse_complement!, :rindex, :rjust, :rna, :rna!, :rpartition, :rstrip, :rstrip!, :scan, :scrub, :scrub!, :send, :seq, :seq!, :setbyte, :singleton_class, :singleton_method, :singleton_methods, :size, :slice, :slice!, :splice, :splicing, :split, :squeeze, :squeeze!, :start_with?, :strip, :strip!, :sub, :sub!, :subseq, :succ, :succ!, :sum, :swapcase, :swapcase!, :taint, :tainted?, :tap, :to_c, :to_enum, :to_f, :to_fasta, :to_i, :to_json, :to_json_raw, :to_json_raw_object, :to_r, :to_re, :to_s, :to_str, :to_sym, :total, :tr, :tr!, :tr_s, :tr_s!, :translate, :trust, :unicode_normalize, :unicode_normalize!, :unicode_normalized?, :unpack, :unpack1, :untaint, :untrust, :untrusted?, :upcase, :upcase!, :upto, :valid_encoding?, :window_search]\n"
     ]
    }
   ],
   "source": [
    "aaseq = Bio::Sequence.auto(\"BBSTD\")\n",
    "puts aaseq.seq.class\n",
    "puts aaseq.seq.public_methods.sort\n",
    "puts\n",
    "aaseq = Bio::Sequence.auto(\"AAAACCCCCCCTTTTTTTGGGGGG\")\n",
    "puts aaseq.seq.class\n",
    "puts aaseq.seq.public_methods.sort\n",
    "\n"
   ]
  },
  {
   "cell_type": "markdown",
   "metadata": {},
   "source": [
    "## writing sequences\n",
    "\n",
    "* :output \n",
    "* :list_output_formats\n",
    "* :output_fasta\n",
    "\n",
    "Note that the documentation for Bio::Sequence says:\n",
    "\n",
    "    Included Modules\n",
    "\n",
    "        Bio::Sequence::Format\n",
    "        Bio::Sequence::SequenceMasker \n",
    "\n",
    "That's where these \"output\" methods are coming from...\n",
    "\n"
   ]
  },
  {
   "cell_type": "code",
   "execution_count": 16,
   "metadata": {},
   "outputs": [
    {
     "data": {
      "text/plain": [
       "[:fastq, :fasta, :raw, :fasta_ncbi, :fastq_sanger, :fastq_solexa, :fastq_illumina, :fasta_numeric, :qual]"
      ]
     },
     "execution_count": 16,
     "metadata": {},
     "output_type": "execute_result"
    }
   ],
   "source": [
    "aaseq.list_output_formats"
   ]
  },
  {
   "cell_type": "code",
   "execution_count": 22,
   "metadata": {},
   "outputs": [
    {
     "name": "stdout",
     "output_type": "stream",
     "text": [
      ">. \n",
      "BBSTD\n",
      "\n",
      ">. \n",
      "BBSTD\n",
      "\n"
     ]
    }
   ],
   "source": [
    "puts aaseq.output_fasta    # ask for fasta\n",
    "puts aaseq.output    # the default is fasta"
   ]
  },
  {
   "cell_type": "code",
   "execution_count": 43,
   "metadata": {},
   "outputs": [
    {
     "name": "stdout",
     "output_type": "stream",
     "text": [
      "@. \n",
      "BBSTD\n",
      "+\n",
      "!!!!!\n",
      "\n",
      "\n"
     ]
    }
   ],
   "source": [
    "puts aaseq.output(:fastq)   # specify that you want fastq\n"
   ]
  },
  {
   "cell_type": "markdown",
   "metadata": {},
   "source": [
    "## searching sequences \n",
    "\n",
    "see:  https://www.bioinformatics.org/sms/iupac.html\n",
    "\n",
    "This is accomplished in bioruby using the .to_re\n",
    "\n"
   ]
  },
  {
   "cell_type": "code",
   "execution_count": 64,
   "metadata": {},
   "outputs": [
    {
     "name": "stdout",
     "output_type": "stream",
     "text": [
      "at[acm][acm]\n",
      "atcc\n"
     ]
    }
   ],
   "source": [
    "seq = Bio::Sequence::NA.new(\"actgggggatccc\")\n",
    "search = Bio::Sequence::NA.new(\"ATMM\")   # M indicates it is an A or C\n",
    "\n",
    "re = Regexp.new(search.to_re)\n",
    "puts re.source   # to see the content of a regualr expression call .source\n",
    "\n",
    "match = seq.seq.match(re)\n",
    "puts match\n",
    "\n"
   ]
  },
  {
   "cell_type": "markdown",
   "metadata": {},
   "source": [
    "## Other common sequence methods\n",
    "(from the BioRuby Tutorial)\n",
    "\n",
    "    seq = Bio::Sequence::NA.new(\"atgcatgcaaaa\")\n",
    "    puts seq.complement\n",
    "\n",
    "    puts seq.subseq(3,8) # gets subsequence of positions 3 to 8 (starting from 1)\n",
    "    puts seq.gc_percent \n",
    "    puts seq.composition \n",
    "    puts seq.translate \n",
    "    puts seq.translate(2)        # translate from frame 2\n",
    "    puts seq.translate(1,11)     # codon table 11\n",
    "    puts seq.translate.codes\n",
    "    puts seq.translate.names\n",
    "    puts seq.translate.composition\n",
    "    puts seq.translate.molecular_weight\n",
    "    puts seq.complement.translate\n"
   ]
  },
  {
   "cell_type": "code",
   "execution_count": 65,
   "metadata": {},
   "outputs": [
    {
     "name": "stdout",
     "output_type": "stream",
     "text": [
      "ttttgcatgcat\n",
      "gcatgc\n",
      "33\n",
      "{\"a\"=>6, \"t\"=>2, \"g\"=>2, \"c\"=>2}\n",
      "MHAK\n",
      "CMQ\n",
      "MHAK\n",
      "[\"Met\", \"His\", \"Ala\", \"Lys\"]\n",
      "[\"methionine\", \"histidine\", \"alanine\", \"lysine\"]\n",
      "{\"M\"=>1, \"H\"=>1, \"A\"=>1, \"K\"=>1}\n",
      "485.6050000000001\n",
      "FCMH\n"
     ]
    }
   ],
   "source": [
    "seq = Bio::Sequence::NA.new(\"atgcatgcaaaa\")\n",
    "puts seq.complement\n",
    "\n",
    "puts seq.subseq(3,8) # gets subsequence of positions 3 to 8 (starting from 1)\n",
    "puts seq.gc_percent \n",
    "puts seq.composition \n",
    "puts seq.translate \n",
    "puts seq.translate(2)        # translate from frame 2\n",
    "puts seq.translate(1,11)     # codon table 11\n",
    "puts seq.translate.codes\n",
    "puts seq.translate.names\n",
    "puts seq.translate.composition\n",
    "puts seq.translate.molecular_weight\n",
    "puts seq.complement.translate"
   ]
  }
 ],
 "metadata": {
  "kernelspec": {
   "display_name": "Ruby 2.4.2",
   "language": "ruby",
   "name": "ruby"
  },
  "language_info": {
   "file_extension": ".rb",
   "mimetype": "application/x-ruby",
   "name": "ruby",
   "version": "2.4.2"
  }
 },
 "nbformat": 4,
 "nbformat_minor": 2
}
