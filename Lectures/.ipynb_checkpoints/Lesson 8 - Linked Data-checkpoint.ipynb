{
 "cells": [
  {
   "cell_type": "markdown",
   "metadata": {},
   "source": [
    "# Linked Data\n",
    "\n",
    "Switch to the slide deck on [Google Slides](https://docs.google.com/presentation/d/1STNxE0C_1XPFYw4WKs2UoCPzN44vRKT83VU4zQC0Wvc/)\n",
    "\n",
    "<pre>\n",
    "\n",
    "\n",
    "</pre>\n",
    "\n",
    "\n",
    "We are now using the SPARQL Kernel for Jupyter Notebooks.  [Look at the documentation](https://github.com/paulovn/sparql-kernel) to understand the \"magic instructions\" ('%')\n"
   ]
  },
  {
   "cell_type": "code",
   "execution_count": null,
   "metadata": {},
   "outputs": [],
   "source": [
    "%endpoint https://www.ebi.ac.uk/rdf/services/sparql\n",
    "%format JSON\n",
    "\n",
    "PREFIX  ids:  <http://identifiers.org/ncbigene/>\n",
    "\n",
    "SELECT distinct  ?p \n",
    "\n",
    "WHERE {  \n",
    "   ?s   ?p   ids:672\n",
    "}\n"
   ]
  },
  {
   "cell_type": "code",
   "execution_count": 6,
   "metadata": {},
   "outputs": [
    {
     "data": {
      "text/html": [
       "<div class=\"krn-spql\"><div class=\"magic\">Endpoint set to: https://sparql.uniprot.org/sparql</div><div class=\"magic\">Return format: JSON</div></div>"
      ],
      "text/plain": [
       "Endpoint set to: https://sparql.uniprot.org/sparql\n",
       "Return format: JSON\n"
      ]
     },
     "metadata": {},
     "output_type": "display_data"
    },
    {
     "data": {
      "text/html": [
       "<div class=\"krn-spql\"><table><tr class=hdr><th>name</th>\n",
       "<th>image</th></tr><tr class=odd><td class=val>Thomomys bottae</td>\n",
       "<td class=val><a href=\"https://upload.wikimedia.org/wikipedia/commons/f/f0/Thomomys_bottae.jpg\" target=\"_other\">https://upload.wikimedia.org/wikipedia/commons/f/f0/Thomomys_bottae.jpg</a></td></tr><tr class=even><td class=val>Thomomys bottae</td>\n",
       "<td class=val><a href=\"http://calphotos.berkeley.edu/imgs/512x768/0000_0000/1201/0273.jpeg\" target=\"_other\">http://calphotos.berkeley.edu/imgs/512x768/0000_0000/1201/0273.jpeg</a></td></tr><tr class=odd><td class=val>Thomomys bottae</td>\n",
       "<td class=val><a href=\"http://www.nsrl.ttu.edu/tmot1/images/thombott.jpg\" target=\"_other\">http://www.nsrl.ttu.edu/tmot1/images/thombott.jpg</a></td></tr><tr class=even><td class=val>Varroa destructor</td>\n",
       "<td class=val><a href=\"http://www.hawaiibeekeepers.org/img/varroa.jpg\" target=\"_other\">http://www.hawaiibeekeepers.org/img/varroa.jpg</a></td></tr><tr class=odd><td class=val>Varroa destructor</td>\n",
       "<td class=val><a href=\"https://www.biolib.cz/IMG/GAL/144140.jpg\" target=\"_other\">https://www.biolib.cz/IMG/GAL/144140.jpg</a></td></tr><tr class=even><td class=val>Varroa destructor</td>\n",
       "<td class=val><a href=\"http://entnemdept.ufl.edu/creatures/misc/bees/varroa_mite04.jpg\" target=\"_other\">http://entnemdept.ufl.edu/creatures/misc/bees/varroa_mite04.jpg</a></td></tr><tr class=odd><td class=val>Amphibalanus amphitrite</td>\n",
       "<td class=val><a href=\"http://www.sms.si.edu/IRLSpec/images/bamphitrite2.jpg\" target=\"_other\">http://www.sms.si.edu/IRLSpec/images/bamphitrite2.jpg</a></td></tr><tr class=even><td class=val>Aporia crataegi</td>\n",
       "<td class=val><a href=\"http://calphotos.berkeley.edu/imgs/512x768/0000_0000/0715/0270.jpeg\" target=\"_other\">http://calphotos.berkeley.edu/imgs/512x768/0000_0000/0715/0270.jpeg</a></td></tr><tr class=odd><td class=val>Aporia crataegi</td>\n",
       "<td class=val><a href=\"http://calphotos.berkeley.edu/imgs/512x768/0000_0000/0902/0424.jpeg\" target=\"_other\">http://calphotos.berkeley.edu/imgs/512x768/0000_0000/0902/0424.jpeg</a></td></tr><tr class=even><td class=val>Aporia crataegi</td>\n",
       "<td class=val><a href=\"http://www.butterfly-guide.co.uk/species/whites/pics/crataegi.jpg\" target=\"_other\">http://www.butterfly-guide.co.uk/species/whites/pics/crataegi.jpg</a></td></tr></table><div class=\"tinfo\">Total: 10, Shown: 10</div></div>"
      ]
     },
     "metadata": {},
     "output_type": "display_data"
    }
   ],
   "source": [
    "%endpoint https://sparql.uniprot.org/sparql\n",
    "%format JSON\n",
    "\n",
    "PREFIX up:<http://purl.uniprot.org/core/> \n",
    "PREFIX foaf:<http://xmlns.com/foaf/0.1/>\n",
    "\n",
    "SELECT ?name ?image\n",
    "WHERE {\n",
    "       ?taxon    foaf:depiction  ?image .\n",
    "       ?taxon    up:scientificName   ?name .\n",
    "} LIMIT 10\n"
   ]
  }
 ],
 "metadata": {
  "kernelspec": {
   "display_name": "SPARQL",
   "language": "",
   "name": "sparql"
  },
  "language_info": {
   "codemirror_mode": {
    "name": "sparql"
   },
   "mimetype": "application/sparql-query",
   "name": "sparql",
   "pygments_lexer": "sparql-nb"
  }
 },
 "nbformat": 4,
 "nbformat_minor": 2
}
