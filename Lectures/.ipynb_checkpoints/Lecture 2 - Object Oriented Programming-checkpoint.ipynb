{
 "cells": [
  {
   "cell_type": "markdown",
   "metadata": {
    "deletable": true,
    "editable": true
   },
   "source": [
    "# Object Oriented Programming\n",
    "\n",
    "Details of how to use Markdown are here:  https://daringfireball.net/projects/markdown/syntax\n",
    "\n"
   ]
  },
  {
   "cell_type": "markdown",
   "metadata": {
    "deletable": true,
    "editable": true
   },
   "source": [
    "## first, you should get a good Development Environment.  \n",
    "\n",
    "* I suggest using ActiveState Komodo - it is simple, but powerful.\n",
    "* It is already installed on your course VM, but in case you want to install it at home, go to:  https://www.activestate.com/komodo-ide/downloads/edit\n",
    "\n",
    "\n"
   ]
  },
  {
   "cell_type": "markdown",
   "metadata": {
    "deletable": true,
    "editable": true
   },
   "source": [
    "![Komodo Download](./files/komodo.png)"
   ]
  },
  {
   "cell_type": "markdown",
   "metadata": {
    "deletable": true,
    "editable": true
   },
   "source": [
    "<pre>\n",
    "  \n",
    "\n",
    "\n",
    "\n",
    "</pre>"
   ]
  },
  {
   "cell_type": "markdown",
   "metadata": {
    "deletable": true,
    "editable": true
   },
   "source": [
    "# Philosophy\n",
    "\n",
    "Software architecture should always be a consideration when you start creating a piece of scholarly software.  Why?\n",
    "\n",
    "* You will need to update it\n",
    "* You will need to debug it\n",
    "* You will need to change/add one or more features\n",
    "* You would *like* to share it\n",
    "* You would *like* to be able to reuse pieces of it\n",
    "* Others should be able to reuse pieces of it\n",
    "* You want to partition the problem into sensible pieces so that it is easier to write the code\n",
    "* You want to reduce the complexity of your task\n",
    "* You want to be able to test those pieces independently of one another (versus running your entire program every time just to find a bug)\n",
    "* You want to be able to easily understand your own software!\n"
   ]
  },
  {
   "cell_type": "markdown",
   "metadata": {
    "deletable": true,
    "editable": true
   },
   "source": [
    "# Object Oriented Programming\n",
    "\n",
    "Achieves all of these results\n",
    "\n",
    "Is a different way of thinking (compared to scripting, as you have been doing so far)\n",
    "\n",
    "Requires you to do some planning before you start writing...\n"
   ]
  },
  {
   "cell_type": "markdown",
   "metadata": {
    "deletable": true,
    "editable": true
   },
   "source": [
    "<pre>\n",
    "\n",
    "\n",
    "\n",
    "\n",
    "</pre>\n",
    "\n",
    "\n",
    "\n",
    "# The Main Ideas"
   ]
  },
  {
   "cell_type": "markdown",
   "metadata": {
    "deletable": true,
    "editable": true
   },
   "source": [
    "## Classes\n",
    "\n",
    "A “Class” is a definition of a type of entity that (sometimes) represents something ‘in the real world’.  The definition includes a combination of the *properties* of that entity, and the kinds of *actions* that members of that kind of entity can participate in.\n",
    "\n",
    "## Properties\n",
    "\n",
    "A \"Scientific Paper\" has Properties:\n",
    "* DOI\n",
    "* a title\n",
    "* an author\n",
    "* Publication Date\n",
    "* number of pages\n",
    "\n",
    "## Methods (\"actions\")\n",
    "A \"Scientific Paper\" has Actions: \n",
    "* submit\n",
    "* revise\n",
    "* retract\n",
    "\n",
    "## Objects, a.k.a. Instances a.k.a. Individuals\n",
    "An Object is a member of a Class.  Objects have specific values for the properties that are defined in that class, and may participate in the Class Methods.\n",
    "<pre>\n",
    "\n",
    "\n",
    "</pre>\n",
    "\n",
    "\n",
    "##  For Example\n",
    "**Class**:  President\n",
    "\n",
    "**Properties**:\n",
    "* Age\n",
    "* Hair Color\n",
    "* Years in Office\n",
    "* Pet\n",
    "\n",
    "**Methods**: \n",
    "* give_speech\n",
    "* sign_law\n",
    "* tell_lie\n",
    "\n",
    "**Objects** (instances):\n",
    "* Donald Trump (age=71; hair color=orange; years=1; pet=none)\n",
    "* Bill Clinton (age=46; hair color=brown; years=8; pet=cat)\n",
    "* George Bush (age=54; hair color=grey; years=8; pet=dog)\n",
    "* Mariano Rajoy (age=62; hair color=grey; years=8; pet=dog)\n",
    "\n",
    "Note that every instance (object) has the same set of properties, defined by the Class, but the properties have different VALUES for each instance.\n",
    "\n"
   ]
  },
  {
   "cell_type": "markdown",
   "metadata": {
    "deletable": true,
    "editable": true
   },
   "source": [
    "\n",
    "<pre>\n",
    "\n",
    "\n",
    "</pre>\n",
    "\n",
    "# Why bother with Object Oriented Programming?\n",
    "\n",
    "## Objective 1:  Encapsulation\n",
    "\n",
    "“Encapsulation” means that you group together all of the properties and methods that are appropriate for that “thing”.  The objective is to make your software more intuitive or common-sense.  Also, to avoid name-conflicts.  For example:\n",
    "\n",
    "* Papers can be submitted or edited\n",
    "* Grant Proposals can be submitted or edited\n",
    "\n",
    "If I see the command “submit” in my software, what does it mean?  How can I know?  \n",
    "\n",
    "I can associate it with a Class, to distinguish between \"submit\" for the Paper class, and \"submit\" for the Grant Proposal class.\n",
    "\n",
    "\n",
    "## Objective 2:  Abstraction\n",
    "\n",
    "As much as possible, you want your software to represent WHAT is being done, rather than HOW it is done.  This makes  your software becomes *much* easier to understand (both by others, and by **you**!)\n",
    "\n",
    "**WHAT**:  Paper -> submit\n",
    "\n",
    "\n",
    "**HOW**: Gather the authorship list, the title, and the text of the paper.  Connect to the journal website.  Submit the information.  Wait for reply.  Extract the submission id and editors note from the reply.  Give this information to the submitter.\n",
    "\n",
    "\n",
    "Clearly, it is easier to say \"paper->submit\" than to read that list of sub-activities and understand what they are doing.  You have \"abstracted\" the complexity of submitting a paper by giving a name to that collection of sub-activities.\n",
    "\n",
    "\n",
    "## Objective 3:  Reuse and Inheritence\n",
    "\n",
    "As you saw above, we created four different presidents using a single President class.  Ths is \"reuse\" - all individuals of a given class can hold the same information, and execute the same actions, without any additional code.\n",
    "\n",
    "A different kind of reuse is called \"Inheritence\".  Notice that our President class has properties that are true of all humans - for example, Hair color, and age.  In this case, it would be better to create multiple classes, that use \"Inheritence\":\n",
    "\n",
    " **Class** “Human” \n",
    "\n",
    "    property: age\n",
    "    property: hair color\n",
    "\n",
    " **Class** \"President” \n",
    "\n",
    "    Inherit:  Class \"Human\"\n",
    "    Property:  “years in office”\n",
    "\n",
    "Instances of the President Class would then have “age”, “hair color” and “time_in_office” properties\n",
    "\n",
    "This is Inheritance.  Reduces amount of code, and allows you to create different kinds of Humans more easily.\n",
    "\n",
    "\n",
    "\n"
   ]
  },
  {
   "cell_type": "markdown",
   "metadata": {},
   "source": [
    "<pre>\n",
    "\n",
    "\n",
    "</pre>\n",
    "# Let's Get Started!\n",
    "\n",
    "In Ruby, you can put your Class definitions ain the same file as the rest of your code.  For today, that is what we will do.  (normally, this is not a good idea.  You want your code to be easy-to-read, so it is better to put your Classes in their own file... we will learn how to do that later!)\n",
    "\n",
    "### Creating a \"Patient\" Class\n"
   ]
  },
  {
   "cell_type": "code",
   "execution_count": 1,
   "metadata": {
    "collapsed": false,
    "deletable": true,
    "editable": true
   },
   "outputs": [],
   "source": [
    "\n",
    "class Patient\n",
    "  # details about the class go here...\n",
    "end\n"
   ]
  },
  {
   "cell_type": "markdown",
   "metadata": {},
   "source": [
    "### Creating a Patient object (instance)\n"
   ]
  },
  {
   "cell_type": "code",
   "execution_count": 2,
   "metadata": {
    "collapsed": false
   },
   "outputs": [
    {
     "name": "stdout",
     "output_type": "stream",
     "text": [
      "#<Patient:0x000000015dbb68>\n"
     ]
    }
   ],
   "source": [
    "patient1 = Patient.new()\n",
    "puts patient1\n"
   ]
  },
  {
   "cell_type": "markdown",
   "metadata": {},
   "source": [
    "<pre>\n",
    "\n",
    "\n",
    "</pre>\n",
    "### Creating a Patient object (instance) with a Property called \"name\"\n"
   ]
  },
  {
   "cell_type": "code",
   "execution_count": 3,
   "metadata": {
    "collapsed": false
   },
   "outputs": [
    {
     "name": "stdout",
     "output_type": "stream",
     "text": [
      "#<Patient:0x0000000134e850>\n",
      "Mark Wilkinson\n"
     ]
    }
   ],
   "source": [
    "\n",
    "class Patient\n",
    "\n",
    "  def initialize\n",
    "      @name = \"Mark Wilkinson\"  # this is a property called \"name\", with default \"Mark Wilkinson\"\n",
    "  end\n",
    "\n",
    "  # details about the class go here...\n",
    "end\n",
    "\n",
    "\n",
    "\n",
    "patient1 = Patient.new\n",
    "puts patient1  # shows you the Class name for this patient, and its internal ID\n",
    "puts patient1.instance_variable_get(:@name)   # print the value of \"@name\". \n",
    "                                              # this is horrible!  Is there a better way?\n"
   ]
  },
  {
   "cell_type": "markdown",
   "metadata": {},
   "source": [
    "<pre>\n",
    "\n",
    "\n",
    "</pre>\n",
    "### Creating a Patient object (instance) with an *accessible* Property called \"name\"\n"
   ]
  },
  {
   "cell_type": "code",
   "execution_count": 4,
   "metadata": {
    "collapsed": false
   },
   "outputs": [
    {
     "name": "stdout",
     "output_type": "stream",
     "text": [
      "Mark Wilkinson\n"
     ]
    }
   ],
   "source": [
    "class Patient\n",
    "\n",
    "  attr_accessor :name  # create an \"attribute accessor\" (read and write) for \"name\"\n",
    "  def initialize\n",
    "      @name = \"Mark Wilkinson\"  # this is a property called \"name\"\n",
    "  end\n",
    "\n",
    "  # details about the class go here...\n",
    "end\n",
    "\n",
    "\n",
    "patient1 = Patient.new\n",
    "puts patient1.name   # <---  MUCH better!\n"
   ]
  },
  {
   "cell_type": "markdown",
   "metadata": {},
   "source": [
    "<pre>\n",
    "\n",
    "\n",
    "</pre>\n",
    "### Change the Class Initialize to assign property values on the creation of the object\n"
   ]
  },
  {
   "cell_type": "code",
   "execution_count": 5,
   "metadata": {
    "collapsed": false
   },
   "outputs": [
    {
     "name": "stdout",
     "output_type": "stream",
     "text": [
      "Some Person\n",
      "Mark Wilkinson\n"
     ]
    }
   ],
   "source": [
    "class Patient\n",
    "\n",
    "  attr_accessor :name  # create an \"attribute accessor\" (read and write) for \"name\"\n",
    "  \n",
    "  def initialize (thisname = \"Some Person\") # get a name from the \"new\" call, or set a default\n",
    "      @name = thisname  \n",
    "  end\n",
    "\n",
    "  # details about the class go here...\n",
    "end\n",
    "\n",
    "\n",
    "patient1 = Patient.new\n",
    "puts patient1.name   # Some Person\n",
    "\n",
    "patient2 = Patient.new(\"Mark Wilkinson\")\n",
    "puts patient2.name   # Mark Wilkinson\n",
    "\n"
   ]
  },
  {
   "cell_type": "markdown",
   "metadata": {},
   "source": [
    "<pre>\n",
    "\n",
    "\n",
    "</pre>\n",
    "### Finally, put the code into its own file, and then import it\n"
   ]
  },
  {
   "cell_type": "code",
   "execution_count": 8,
   "metadata": {
    "collapsed": false
   },
   "outputs": [
    {
     "ename": "LoadError",
     "evalue": "cannot load such file -- Patient",
     "output_type": "error",
     "traceback": [
      "\u001b[31mLoadError\u001b[0m: cannot load such file -- Patient",
      "\u001b[37m/usr/local/lib/site_ruby/2.3.0/rubygems/core_ext/kernel_require.rb:55:in `require'\u001b[0m",
      "\u001b[37m/usr/local/lib/site_ruby/2.3.0/rubygems/core_ext/kernel_require.rb:55:in `require'\u001b[0m",
      "\u001b[37m<main>:2:in `<main>'\u001b[0m",
      "\u001b[37m/usr/lib/ruby/vendor_ruby/iruby/backend.rb:44:in `eval'\u001b[0m",
      "\u001b[37m/usr/lib/ruby/vendor_ruby/iruby/backend.rb:44:in `eval'\u001b[0m",
      "\u001b[37m/usr/lib/ruby/vendor_ruby/iruby/backend.rb:12:in `eval'\u001b[0m",
      "\u001b[37m/usr/lib/ruby/vendor_ruby/iruby/kernel.rb:87:in `execute_request'\u001b[0m",
      "\u001b[37m/usr/lib/ruby/vendor_ruby/iruby/kernel.rb:47:in `dispatch'\u001b[0m",
      "\u001b[37m/usr/lib/ruby/vendor_ruby/iruby/kernel.rb:37:in `run'\u001b[0m",
      "\u001b[37m/usr/lib/ruby/vendor_ruby/iruby/command.rb:70:in `run_kernel'\u001b[0m",
      "\u001b[37m/usr/lib/ruby/vendor_ruby/iruby/command.rb:34:in `run'\u001b[0m",
      "\u001b[37m/usr/bin/iruby:5:in `<main>'\u001b[0m"
     ]
    }
   ],
   "source": [
    "require \"Patient\"\n",
    "\n",
    "patient1 = Patient.new\n",
    "puts patient1.name   # Some Person\n",
    "\n",
    "patient2 = Patient.new(\"Mark Wilkinson\")\n",
    "puts patient2.name   # Mark Wilkinson\n",
    "\n"
   ]
  }
 ],
 "metadata": {
  "kernelspec": {
   "display_name": "Ruby",
   "language": "ruby",
   "name": "iruby"
  },
  "language_info": {
   "file_extension": ".rb",
   "mimetype": "application/x-ruby",
   "name": "ruby",
   "version": "2.3.1"
  }
 },
 "nbformat": 4,
 "nbformat_minor": 2
}
