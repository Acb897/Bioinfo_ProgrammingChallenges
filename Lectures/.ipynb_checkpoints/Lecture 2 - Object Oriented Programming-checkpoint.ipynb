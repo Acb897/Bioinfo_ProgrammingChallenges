{
 "cells": [
  {
   "cell_type": "markdown",
   "metadata": {
    "deletable": true,
    "editable": true
   },
   "source": [
    "# Object Oriented Programming\n",
    "\n",
    "Details of how to use Markdown are here:  https://daringfireball.net/projects/markdown/syntax\n",
    "\n"
   ]
  },
  {
   "cell_type": "markdown",
   "metadata": {
    "deletable": true,
    "editable": true
   },
   "source": [
    "## first, you should get a good Development Environment.  \n",
    "\n",
    "* I suggest using ActiveState Komodo - it is simple, but powerful.\n",
    "* It is already installed on your course VM, but in case you want to install it at home, go to:  https://www.activestate.com/komodo-ide/downloads/edit\n",
    "\n",
    "\n"
   ]
  },
  {
   "cell_type": "markdown",
   "metadata": {
    "deletable": true,
    "editable": true
   },
   "source": [
    "![Komodo Download](./files/komodo.png)"
   ]
  },
  {
   "cell_type": "markdown",
   "metadata": {
    "deletable": true,
    "editable": true
   },
   "source": [
    "<pre>\n",
    "  \n",
    "\n",
    "\n",
    "\n",
    "</pre>"
   ]
  },
  {
   "cell_type": "markdown",
   "metadata": {
    "deletable": true,
    "editable": true
   },
   "source": [
    "# Philosophy\n",
    "\n",
    "Software architecture should always be a consideration when you start creating a piece of scholarly software.  Why?\n",
    "\n",
    "* You will need to update it\n",
    "* You will need to debug it\n",
    "* You will need to change/add one or more features\n",
    "* You would *like* to share it\n",
    "* You would *like* to be able to reuse pieces of it\n",
    "* Others should be able to reuse pieces of it\n",
    "* You want to partition the problem into sensible pieces so that it is easier to write the code\n",
    "* You want to reduce the complexity of your task\n",
    "* You want to be able to test those pieces independently of one another (versus running your entire program every time just to find a bug)\n",
    "* You want to be able to easily understand your own software!\n"
   ]
  },
  {
   "cell_type": "markdown",
   "metadata": {
    "deletable": true,
    "editable": true
   },
   "source": [
    "# Object Oriented Programming\n",
    "\n",
    "Achieves all of these results\n",
    "\n",
    "Is a different way of thinking (compared to scripting, as you have been doing so far)\n",
    "\n",
    "Requires you to do some planning before you start writing...\n"
   ]
  },
  {
   "cell_type": "markdown",
   "metadata": {
    "deletable": true,
    "editable": true
   },
   "source": [
    "<pre>\n",
    "\n",
    "\n",
    "\n",
    "\n",
    "</pre>\n",
    "\n",
    "\n",
    "\n",
    "# The Main Ideas"
   ]
  },
  {
   "cell_type": "markdown",
   "metadata": {
    "deletable": true,
    "editable": true
   },
   "source": [
    "## Classes\n",
    "\n",
    "A “Class” is a definition of a type of entity that (sometimes) represents something ‘in the real world’.  The definition includes a combination of the *properties* of that entity, and the kinds of *actions* that members of that kind of entity can participate in.\n",
    "\n",
    "## Properties\n",
    "\n",
    "A \"Scientific Paper\" has Properties:\n",
    "* DOI\n",
    "* a title\n",
    "* an author\n",
    "* Publication Date\n",
    "* number of pages\n",
    "\n",
    "## Methods (\"actions\")\n",
    "A \"Scientific Paper\" has Actions: \n",
    "* submit\n",
    "* revise\n",
    "* retract\n",
    "\n",
    "## Objects, a.k.a. Instances a.k.a. Individuals\n",
    "An Object is a member of a Class.  Objects have specific values for the properties that are defined in that class, and may participate in the Class Methods.\n",
    "<pre>\n",
    "\n",
    "\n",
    "</pre>\n",
    "\n",
    "\n",
    "##  For Example\n",
    "**Class**:  President\n",
    "\n",
    "**Properties**:\n",
    "* Age\n",
    "* Hair Color\n",
    "* Years in Office\n",
    "* Pet\n",
    "\n",
    "**Methods**: \n",
    "* give_speech\n",
    "* sign_law\n",
    "* tell_lie\n",
    "\n",
    "**Objects** (instances):\n",
    "* Donald Trump (age=71; hair color=orange; years=1; pet=none)\n",
    "* Bill Clinton (age=46; hair color=brown; years=8; pet=cat)\n",
    "* George Bush (age=54; hair color=grey; years=8; pet=dog)\n",
    "* Mariano Rajoy (age=62; hair color=grey; years=8; pet=dog)\n",
    "\n",
    "Note that every instance (object) has the same set of properties, defined by the Class, but the properties have different VALUES for each instance.\n",
    "\n"
   ]
  },
  {
   "cell_type": "markdown",
   "metadata": {
    "deletable": true,
    "editable": true
   },
   "source": [
    "\n",
    "<pre>\n",
    "\n",
    "\n",
    "</pre>\n",
    "\n",
    "# Why bother with Object Oriented Programming?\n",
    "\n",
    "## Objective 1:  Encapsulation\n",
    "\n",
    "“Encapsulation” means that you group together all of the properties and methods that are appropriate for that “thing”.  The objective is to make your software more intuitive or common-sense.  Also, to avoid name-conflicts.  For example:\n",
    "\n",
    "* Papers can be submitted or edited\n",
    "* Grant Proposals can be submitted or edited\n",
    "\n",
    "If I see the command “submit” in my software, what does it mean?  How can I know?  \n",
    "\n",
    "I can associate it with a Class, to distinguish between \"submit\" for the Paper class, and \"submit\" for the Grant Proposal class.\n",
    "\n",
    "\n",
    "## Objective 2:  Abstraction\n",
    "\n",
    "As much as possible, you want your software to represent WHAT is being done, rather than HOW it is done.  This makes  your software becomes *much* easier to understand (both by others, and by **you**!)\n",
    "\n",
    "**WHAT**:  Paper -> submit\n",
    "\n",
    "\n",
    "**HOW**: Gather the authorship list, the title, and the text of the paper.  Connect to the journal website.  Submit the information.  Wait for reply.  Extract the submission id and editors note from the reply.  Give this information to the submitter.\n",
    "\n",
    "\n",
    "Clearly, it is easier to say \"paper->submit\" than to read that list of sub-activities and understand what they are doing.  You have \"abstracted\" the complexity of submitting a paper by giving a name to that collection of sub-activities.\n",
    "\n",
    "\n",
    "## Objective 3:  Reuse and Inheritence\n",
    "\n",
    "As you saw above, we created four different presidents using a single President class.  Ths is \"reuse\" - all individuals of a given class can hold the same information, and execute the same actions, without any additional code.\n",
    "\n",
    "A different kind of reuse is called \"Inheritence\".  Notice that our President class has properties that are true of all humans - for example, Hair color, and age.  In this case, it would be better to create multiple classes, that use \"Inheritence\":\n",
    "\n",
    " **Class** “Human” \n",
    "\n",
    "    property: age\n",
    "    property: hair color\n",
    "\n",
    " **Class** \"President” \n",
    "\n",
    "    Inherit:  Class \"Human\"\n",
    "    Property:  “years in office”\n",
    "\n",
    "Instances of the President Class would then have “age”, “hair color” and “time_in_office” properties\n",
    "\n",
    "This is Inheritance.  Reduces amount of code, and allows you to create different kinds of Humans more easily.\n",
    "\n",
    "\n",
    "\n"
   ]
  },
  {
   "cell_type": "code",
   "execution_count": 9,
   "metadata": {
    "collapsed": false,
    "deletable": true,
    "editable": true
   },
   "outputs": [
    {
     "ename": "LoadError",
     "evalue": "cannot load such file -- greeterclass.rb",
     "output_type": "error",
     "traceback": [
      "\u001b[31mLoadError\u001b[0m: cannot load such file -- greeterclass.rb",
      "\u001b[37m<main>:1:in `load'\u001b[0m",
      "\u001b[37m<main>:1:in `<main>'\u001b[0m",
      "\u001b[37m/usr/lib/ruby/vendor_ruby/iruby/backend.rb:44:in `eval'\u001b[0m",
      "\u001b[37m/usr/lib/ruby/vendor_ruby/iruby/backend.rb:44:in `eval'\u001b[0m",
      "\u001b[37m/usr/lib/ruby/vendor_ruby/iruby/backend.rb:12:in `eval'\u001b[0m",
      "\u001b[37m/usr/lib/ruby/vendor_ruby/iruby/kernel.rb:87:in `execute_request'\u001b[0m",
      "\u001b[37m/usr/lib/ruby/vendor_ruby/iruby/kernel.rb:47:in `dispatch'\u001b[0m",
      "\u001b[37m/usr/lib/ruby/vendor_ruby/iruby/kernel.rb:37:in `run'\u001b[0m",
      "\u001b[37m/usr/lib/ruby/vendor_ruby/iruby/command.rb:70:in `run_kernel'\u001b[0m",
      "\u001b[37m/usr/lib/ruby/vendor_ruby/iruby/command.rb:34:in `run'\u001b[0m",
      "\u001b[37m/usr/bin/iruby:5:in `<main>'\u001b[0m"
     ]
    }
   ],
   "source": [
    "load \"greeterclass.rb\"\n",
    "#require \"greeterclass\"\n",
    "\n",
    "greet = Greeter.new(\"Marky\")\n",
    "greet.hi\n",
    "greet.bye\n",
    "\n",
    "puts Greeter.methods()\n",
    "puts\n",
    "puts Greeter.instance_methods()\n",
    "puts\n",
    "puts Array.ancestors\n",
    "puts\n",
    "puts Greeter.respond_to?('to_s')\n",
    "puts Greeter.to_s\n",
    "puts \"\\n\"\n",
    "puts Greeter.respond_to?('name')\n",
    "puts greet.name\n",
    "greet.name=\"Betty\"\n",
    "puts greet.name\n",
    "greet.hi"
   ]
  }
 ],
 "metadata": {
  "kernelspec": {
   "display_name": "Ruby",
   "language": "ruby",
   "name": "iruby"
  },
  "language_info": {
   "file_extension": ".rb",
   "mimetype": "application/x-ruby",
   "name": "ruby",
   "version": "2.3.1"
  }
 },
 "nbformat": 4,
 "nbformat_minor": 2
}
