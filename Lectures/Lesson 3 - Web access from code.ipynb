{
 "cells": [
  {
   "cell_type": "markdown",
   "metadata": {},
   "source": [
    "# FINDING, ACCESSING, INTEGRATING, and REUSING data (FAIR)\n",
    "\n",
    "During this course, we will explore the history of bioinformatics data publication and reuse.  We will explore data technologies from the most primitive through the past ~20 years to the most contemporary.  \n",
    "\n",
    "The overview is:\n",
    "\n",
    "* \"Screen Scraping\" from pages directly accessed on the Web\n",
    "* APIs for data retrieval and integration\n",
    "    * Custom APIs\n",
    "    * REST APIs\n",
    "    * BioRuby APIs\n",
    "* Linked Data & SPARQL query\n",
    "* FAIR Data\n",
    "<pre>\n",
    "\n",
    "\n",
    "</pre>\n"
   ]
  },
  {
   "cell_type": "markdown",
   "metadata": {
    "deletable": true,
    "editable": true
   },
   "source": [
    "# The Painful Truth\n",
    "\n",
    "\n",
    "Getting data from the Web is still far more painful than it should be.\n",
    "\n",
    "\n",
    "Most resources do not offer data in a format that is easily accessible by machines.\n",
    "\n",
    "\n",
    "Many resources claim to provide “RESTful” access, but even they often make it difficult (we will discuss REST in a future lecture).\n",
    "\n",
    "\n"
   ]
  },
  {
   "cell_type": "markdown",
   "metadata": {
    "deletable": true,
    "editable": true
   },
   "source": [
    "# One example of a \"friendly\" provider\n",
    "\n",
    "There are (too) many examples of \"bad\" data providers.  In your future careers, you may need to access data from one of these providers.   Good luck!\n",
    "\n",
    "In this course, we are going to mainly focus on \"nice\" data providers.  Nevertheless, we are going to start with the most difficult case, so that you learn how to deal with these cases.  Over the next weeks, we will explore increasingly better, friendlier, more powerful, and easier-to-explore data sources.\n",
    "\n",
    "For today, we are going to explore the European Bioinformatics Institute (EBI) dbFetch interface.\n",
    "\n",
    "http://www.ebi.ac.uk/Tools/dbfetch/\n",
    "\n",
    "dbFetch provides data in a variety of formats, using a predictable URL structure.\n"
   ]
  },
  {
   "cell_type": "markdown",
   "metadata": {
    "deletable": true,
    "editable": true
   },
   "source": [
    "# From Within a Script\n",
    "\n",
    "Scroll down the dbFetch web page until you get to the section titled \"from within a script\":\n",
    "\n",
    "* from within a script - examples of the URL for all styles and formats\n",
    "\n",
    "For people interested in programmatic access to the Dbfetch functionality, we recommend using our new Web Services version of Dbfetch: WSDbfetch.\n",
    "\n",
    "Alternatively, you can use dbfetch for direct access:\n",
    "\n",
    "Making scripted http requests to dbfetch is very simple, the parameters which can be used are db, id, format and style. Of these parameters only db and id are required fields. When omitting to use format and/or style, the defaults for the chosen database will be used (the default style is always html).\n",
    "\n",
    "The URL to dbfetch is always of this format:\n",
    "**dbfetch?db=DB_NAME&id=IDS&format=FORMAT_NAME&style=STYLE_NAME**\n",
    "\n",
    "    DB_NAME - Must be chosen from the table below\n",
    "    IDS - Single id/acc or comma/white-space separated list (id1 or id1 id2 id3 or id1,id2,id3)\n",
    "    FORMAT_NAME - Name of the output format, varies between databases\n",
    "    STYLE_NAME - Name of the output style, available styles are raw and html\n",
    "\n",
    "\n",
    "For details of the available databases, formats and styles see the list of databases [http://www.ebi.ac.uk/Tools/dbfetch/dbfetch/dbfetch.databases]. Additional examples are provided in the syntax guide [http://www.ebi.ac.uk/Tools/dbfetch/syntax.jsp].\n",
    "\n",
    "Examples:\n",
    "\n",
    "https://www.ebi.ac.uk/Tools/dbfetch/dbfetch?db=ena_sequence&id=J00231,K00650,D87894,AJ242600\n",
    "\n",
    "Instead of the default raw (plain ASCII) style, entries can also be retrieved in plain text (raw):\n",
    "https://www.ebi.ac.uk/Tools/dbfetch/dbfetch?db=ena_sequence&id=J00231,K00650,D87894,AJ242600&style=raw\n",
    "\n",
    "It is also possible to retrieve Fasta formatted sequences:\n",
    "https://www.ebi.ac.uk/Tools/dbfetch/dbfetch?db=ena_sequence&id=J00231,K00650,D87894,AJ242600&format=fasta\n",
    "\n",
    "Because of backward compatibility issues the program can be simply called by giving one or more INSDC accession numbers or entry names:\n",
    "https://www.ebi.ac.uk/Tools/dbfetch/dbfetch?J00231"
   ]
  },
  {
   "cell_type": "markdown",
   "metadata": {
    "deletable": true,
    "editable": true
   },
   "source": [
    "# The dbFetch URL Structure\n",
    "\n",
    "## dbfetch?db=<span style='color:red;'>DB_NAME</span>&id=IDS&format=FORMAT_NAME&style=STYLE_NAME\n",
    "\n",
    "The first element to notice in the dbFetch URL is the \"DB_NAME\" field.  The value of this field can be one of many of the databaases hosted at EBI.  The list is below.   I have highlighted \"Ensembl Genomes Gene\" because it is one of the few databases that understands *Arabodiopsis* gene IDs\n",
    "\n"
   ]
  },
  {
   "cell_type": "markdown",
   "metadata": {
    "deletable": true,
    "editable": true
   },
   "source": [
    "# The List of Databases\n",
    "\n",
    "\n",
    "An overview of each database is also provided, which includes a short description of the database, a link to the database, a collection of example identifiers and details of the available data formats and result styles.\n",
    "Databases\n",
    "\n",
    "* EDAM (edam)\n",
    "* ENA Coding (ena_coding)\n",
    "* ENA Geospatial (ena_geospatial)\n",
    "* ENA Non-coding (ena_noncoding)\n",
    "* ENA Sequence (ena_sequence)\n",
    "* ENA Sequence Constructed (ena_sequence_con)\n",
    "* ENA Sequence Constructed Expanded (ena_sequence_conexp)\n",
    "* ENA/SVA (ena_sva)\n",
    "* Ensembl Gene (ensemblgene)\n",
    "* **Ensembl Genomes Gene (ensemblgenomesgene)**[ http://www.ebi.ac.uk/Tools/dbfetch/dbfetch/dbfetch.databases#ensemblgenomesgene ]\n",
    "* Ensembl Genomes Transcript (ensemblgenomestranscript)\n",
    "* Ensembl Transcript (ensembltranscript)\n",
    "* EPO Proteins (epo_prt)\n",
    "* HGNC (hgnc)\n",
    "* IMGT/HLA (imgthla)\n",
    "* IMGT/LIGM-DB (imgtligm)\n",
    "* InterPro (interpro)\n",
    "* IPD-KIR (ipdkir)\n",
    "* IPD-MHC (ipdmhc)\n",
    "* IPRMC (iprmc)\n",
    "* IPRMC UniParc (iprmcuniparc)\n",
    "* JPO Proteins (jpo_prt)\n",
    "* KIPO Proteins (kipo_prt)\n",
    "* MEDLINE (medline)\n",
    "* Patent DNA NRL1 (nrnl1)\n",
    "* Patent DNA NRL2 (nrnl2)\n",
    "* Patent Protein NRL1 (nrpl1)\n",
    "* Patent Protein NRL2 (nrpl2)\n",
    "* Patent Equivalents (patent_equivalents)\n",
    "* PDB (pdb)\n",
    "* RefSeq (nucleotide) (refseqn)\n",
    "* RefSeq (protein) (refseqp)\n",
    "* SGT (sgt)\n",
    "* Taxonomy (taxonomy)\n",
    "* Trace Archive (tracearchive)\n",
    "* UniParc (uniparc)\n",
    "* UniProtKB (uniprotkb)\n",
    "* UniRef100 (uniref100)\n",
    "* UniRef50 (uniref50)\n",
    "* UniRef90 (uniref90)\n",
    "* UniSave (unisave)\n",
    "* USPTO Proteins (uspto_prt)\n"
   ]
  },
  {
   "cell_type": "markdown",
   "metadata": {
    "deletable": true,
    "editable": true
   },
   "source": [
    "# Ensembl Genomes Gene (ensemblgenomesgene)\n",
    "\n",
    "http://www.ensemblgenomes.org/\n",
    "\n",
    "Ensembl Genomes genome databases for metazoa, plants, fungi, protists and bacteria, for vertebrate species and **model organisms** [1] see Ensembl instead of Ensembl Genomes. Gene sequences and annotations.\n",
    "\n",
    "<span style='font-size: 50%;'>[1]  Apparently, EnsEMBL doesn't consider Arabidopsis a \"model organism\" ;-)</span>\n",
    "\n",
    "| <span style='color: blue;'>Format</span> |\t<span style='color: green;'>Styles</span> | \tExample Identifiers | \n",
    "| ------ | ------- | -------\n",
    "| default  | \tdefault, raw \t | Id: AAEL000001, AGAP006864, GB46163, b2736\n",
    "| csv  | \tdefault, raw  | \tId: AAEL000001, AGAP006864, GB46163, b2736\n",
    "| **embl**  | \tdefault, raw  | \tId: AAEL000001, AGAP006864, GB46163, b2736\n",
    "| fasta  | \tdefault, raw  | \tId: AAEL000001, AGAP006864, GB46163, b2736\n",
    "| genbank  | \tdefault, raw  | \tId: AAEL000001, AGAP006864, GB46163, b2736\n",
    "| gff2  | \tdefault, raw  | \tId: AAEL000001, AGAP006864, GB46163, b2736\n",
    "| gff3  | \tdefault, raw  | \tId: AAEL000001, AGAP006864, GB46163, b2736\n",
    "| tab |  \tdefault, raw  | \tId: AAEL000001, AGAP006864, GB46163, b2736 \n",
    "\n",
    "\n",
    "\n",
    "## dbfetch?db=DB_NAME&id=IDS&format=<span style='color: blue;'>FORMAT_NAME</span>&style=<span style='color: green;'>STYLE_NAME</span>\n",
    "\n",
    "The columns for Format and Style are highlighted, together with their position in our structured URL.  I have also highlighted \"embl\", because that is the data format that I want us to use for this example.  "
   ]
  },
  {
   "cell_type": "markdown",
   "metadata": {
    "deletable": true,
    "editable": true
   },
   "source": [
    "# So far we have...\n",
    "\n",
    "## dbfetch?db=<span style='color: red;'>ensemblgenomesgene</span>&format=<span style='color: blue;'>embl</span>&id=.....\n",
    "\n",
    "These elements are called \"GET String Parameters\".  **db** is one parameter, with a value of \"ensemblgenomesgene\".  **format** is another parameter, with the value \"embl\".  In a URL, parameters follow the '?' symbol, and parameter/value pairs are separated by '&'. (We will discuss what \"GET\" means when we talk about REST in a future lecture.)\n",
    "\n",
    "What is the complete URL?  What is before the '?'?\n",
    "\n",
    "Go back to the main dbFetch page and look at the examples:\n",
    "\n",
    "Examples:\n",
    "\n",
    "**https://www.ebi.ac.uk/Tools/dbfetch/dbfetch**?db=ena_sequence&id=J00231,K00650,D87894,AJ242600\n",
    "\n",
    "Instead of the default raw (plain ASCII) style, entries can also be retrieved in plain text (raw):\n",
    "\n",
    "**https://www.ebi.ac.uk/Tools/dbfetch/dbfetch**?db=ena_sequence&id=J00231,K00650,D87894,AJ242600&style=raw\n",
    "\n",
    "It is also possible to retrieve Fasta formatted sequences:\n",
    "\n",
    "**https://www.ebi.ac.uk/Tools/dbfetch/dbfetch**?db=ena_sequence&id=J00231,K00650,D87894,AJ242600&format=fasta\n",
    "\n",
    "\n",
    "##  So, the URL for the Arabidopsis gene At3g54340, in ensembl format, is:\n",
    "\n",
    "### https://www.ebi.ac.uk/Tools/dbfetch/dbfetch?db=ensemblgenomesgene&format=embl&id=At3g54340\n",
    "\n",
    "Open this in your browser (open in a new window!) and examine the structure of that file.  How would you extract information from that file, for example, the name of the gene, or the number of exons?"
   ]
  },
  {
   "cell_type": "markdown",
   "metadata": {},
   "source": [
    "<pre>\n",
    "  \n",
    "\n",
    "\n",
    "\n",
    "</pre>\n",
    "  \n",
    "# Prove that you understand:\n",
    "\n",
    "* Retrieve the EMBL record for AT4G36920 (what gene name is it?)\n",
    "* Retrieve the FASTA file for AT4G36920\n",
    "* Retrieve the UniProt record for AP3_ARATH \n",
    "    * DO NOT retrieve it in HTML - i.e. you want the RECORD, not the web page containing the record --> you will need to use the “style” GET string parameter (&style=...).  Try the different \"style\" options until you get what you want. \n"
   ]
  },
  {
   "cell_type": "markdown",
   "metadata": {},
   "source": [
    "<pre>\n",
    "\n",
    "\n",
    "\n",
    "</pre>\n",
    "\n",
    "# Your first step towards massively integrative informatics - Deja el navegador!\n",
    "\n",
    "It is impossible to do modern bioinformatics through your browser!  To achieve data discovery and integration at the scale of contemporary systems biology, it is necessary to do all of the data retrieval and integration inside of your software.\n",
    "\n",
    "How do you access The Web in your code?\n",
    "\n",
    "<pre>\n",
    "\n",
    "</pre>\n",
    "\n"
   ]
  },
  {
   "cell_type": "code",
   "execution_count": 1,
   "metadata": {
    "collapsed": false
   },
   "outputs": [
    {
     "ename": "LoadError",
     "evalue": "cannot load such file -- linkeddata",
     "output_type": "error",
     "traceback": [
      "\u001b[31mLoadError\u001b[0m: cannot load such file -- linkeddata",
      "\u001b[37m/usr/local/lib/site_ruby/2.3.0/rubygems/core_ext/kernel_require.rb:55:in `require'\u001b[0m",
      "\u001b[37m/usr/local/lib/site_ruby/2.3.0/rubygems/core_ext/kernel_require.rb:55:in `require'\u001b[0m",
      "\u001b[37m<main>:1:in `<main>'\u001b[0m",
      "\u001b[37m/usr/lib/ruby/vendor_ruby/iruby/backend.rb:44:in `eval'\u001b[0m",
      "\u001b[37m/usr/lib/ruby/vendor_ruby/iruby/backend.rb:44:in `eval'\u001b[0m",
      "\u001b[37m/usr/lib/ruby/vendor_ruby/iruby/backend.rb:12:in `eval'\u001b[0m",
      "\u001b[37m/usr/lib/ruby/vendor_ruby/iruby/kernel.rb:87:in `execute_request'\u001b[0m",
      "\u001b[37m/usr/lib/ruby/vendor_ruby/iruby/kernel.rb:47:in `dispatch'\u001b[0m",
      "\u001b[37m/usr/lib/ruby/vendor_ruby/iruby/kernel.rb:37:in `run'\u001b[0m",
      "\u001b[37m/usr/lib/ruby/vendor_ruby/iruby/command.rb:70:in `run_kernel'\u001b[0m",
      "\u001b[37m/usr/lib/ruby/vendor_ruby/iruby/command.rb:34:in `run'\u001b[0m",
      "\u001b[37m/usr/bin/iruby:5:in `<main>'\u001b[0m"
     ]
    }
   ],
   "source": [
    "require 'net/http'\n",
    "require 'linkeddata'\n",
    "\n",
    "\n",
    "def fetch(uri_str, limit = 10)\n",
    "  # You should choose a better exception.\n",
    "  raise ArgumentError, 'too many HTTP redirects' if limit == 0\n",
    "\n",
    "  response = Net::HTTP.get_response(URI(uri_str))\n",
    "\n",
    "  case response\n",
    "    when Net::HTTPSuccess then\n",
    "      puts \"success\"\n",
    "      response\n",
    "    when Net::HTTPRedirection then\n",
    "      location = response['location']\n",
    "      puts \"redirected to #{location}\"\n",
    "      fetch(location, limit - 1)\n",
    "    else\n",
    "      puts \"something else\"\n",
    "      response.value\n",
    "    end\n",
    "      \n",
    "end\n",
    "    \n",
    "\n",
    "\n",
    "raise ArgumentError, 'arguments are really really bad!'\n",
    "    \n",
    "res = fetch('http://linkeddata.systems/Accessors/UniProtAccessor');\n",
    "puts res.class\n",
    "#puts res.public_methods\n",
    "#puts = String.new.public_methods\n",
    "body = res.body"
   ]
  }
 ],
 "metadata": {
  "kernelspec": {
   "display_name": "Ruby",
   "language": "ruby",
   "name": "iruby"
  },
  "language_info": {
   "file_extension": ".rb",
   "mimetype": "application/x-ruby",
   "name": "ruby",
   "version": "2.3.1"
  }
 },
 "nbformat": 4,
 "nbformat_minor": 2
}
